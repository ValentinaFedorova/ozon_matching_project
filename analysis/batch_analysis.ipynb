{
 "cells": [
  {
   "cell_type": "code",
   "execution_count": 1,
   "metadata": {},
   "outputs": [],
   "source": [
    "\n",
    "import pandas as pd\n",
    "import numpy as np"
   ]
  },
  {
   "cell_type": "code",
   "execution_count": 3,
   "metadata": {},
   "outputs": [],
   "source": [
    "batch1_resnet = pd.read_csv(\"../data/train_batched/batch0_resnet.csv\")"
   ]
  },
  {
   "cell_type": "code",
   "execution_count": 43,
   "metadata": {},
   "outputs": [
    {
     "data": {
      "text/plain": [
       "'[array([ 0.24994527, -0.28989983, -0.35771206,  0.61118531, -0.1705133 ,\\n        -1.01113057,  0.18259363,  0.19908096,  0.2949509 , -0.60277635,\\n        -0.12402182,  0.31609184,  0.5551579 ,  0.27120179,  0.27964357,\\n        -1.49670267,  0.89606994, -0.27277413, -0.00728848,  0.51331979,\\n         0.16234657,  0.3310113 ,  0.20541486, -0.96084213, -0.00491305,\\n         0.17356765, -0.58545101,  0.30292687, -1.07042742,  0.21009645,\\n         0.60024273, -0.46145028,  0.51324463,  1.08304501, -0.38627532,\\n        -0.74761611,  0.28837854, -0.66294175,  0.68816531,  0.2617988 ,\\n        -1.1435914 ,  0.57255352, -1.4442904 ,  0.69784647,  1.04269433,\\n        -1.04961061,  0.58537507,  0.02295706,  0.12881154, -0.24674852,\\n         0.12680665, -0.23418085, -1.15654874,  0.5598582 ,  0.21873762,\\n        -0.05886749, -0.41657597, -0.12021349, -0.68096244,  0.55560303,\\n        -0.95491147, -0.39377546, -0.62585795, -0.93046254, -0.09294429,\\n        -0.91381115,  0.52891487, -0.51514494, -0.81777084, -0.22587615,\\n         0.29989696,  0.79994988,  0.06690574, -0.36682978,  0.55969954,\\n         0.64129895, -0.56898999, -0.24050182, -0.20960456, -0.63521296,\\n        -0.10626818,  0.14532474,  0.17855266,  0.11597643, -0.32995033,\\n         0.58607924, -0.10978163,  0.60009867, -0.20358086,  0.28567147,\\n        -0.35909975,  0.00559335, -0.28173003, -0.05194795, -0.29649517,\\n        -0.25636834, -0.95711946, -0.25267071,  0.02320775, -0.62238771,\\n         0.30152777,  0.29270682, -0.43356502, -0.3550657 , -0.27376732,\\n        -0.41078022, -0.49134156, -0.1120308 ,  0.51826298, -0.2583985 ,\\n        -0.01298404, -0.21673447,  0.2910915 ,  0.17808305,  0.05827024,\\n         0.17026258,  0.35024786,  0.73623347, -0.10921575, -0.13845715,\\n        -0.0177977 ,  0.00625353, -0.25342298,  0.32165891, -0.08272913,\\n        -0.39228591, -0.45118281,  0.44177365])                         ]'"
      ]
     },
     "execution_count": 43,
     "metadata": {},
     "output_type": "execute_result"
    }
   ],
   "source": [
    "batch1_resnet.main_pic_embeddings_resnet_v1.iloc[0]"
   ]
  },
  {
   "cell_type": "code",
   "execution_count": 8,
   "metadata": {},
   "outputs": [],
   "source": [
    "batch1_text_and_bert = pd.read_parquet(\"../data/train_batched/batch0_text_and_bert.parquet\")\n"
   ]
  },
  {
   "cell_type": "code",
   "execution_count": 12,
   "metadata": {},
   "outputs": [
    {
     "data": {
      "text/plain": [
       "numpy.ndarray"
      ]
     },
     "execution_count": 12,
     "metadata": {},
     "output_type": "execute_result"
    }
   ],
   "source": [
    "type(batch1_text_and_bert.name_bert_64.iloc[0])"
   ]
  },
  {
   "cell_type": "code",
   "execution_count": 7,
   "metadata": {},
   "outputs": [],
   "source": [
    "# batch1 = pd.read_parquet(\"../data/train_batched/batch0.parquet\")\n",
    "# batch1_attributes = pd.read_parquet(\"../data/train_batched/batch0_attributes.parquet\")\n",
    "# batch1_text_and_bert = pd.read_parquet(\"../data/train_batched/batch0_text_and_bert.parquet\")\n",
    "# batch1_resnet = pd.read_csv(\"../data/train_batched/batch0_resnet.csv\")"
   ]
  },
  {
   "cell_type": "code",
   "execution_count": 14,
   "metadata": {},
   "outputs": [
    {
     "data": {
      "text/plain": [
       "((4,), (4,))"
      ]
     },
     "execution_count": 14,
     "metadata": {},
     "output_type": "execute_result"
    }
   ],
   "source": [
    "v1 = batch1_text_and_bert.name_bert_64.iloc[0:4]\n",
    "v2 = batch1_text_and_bert.name_bert_64.iloc[5:9]\n",
    "v1.shape, v2.shape"
   ]
  },
  {
   "cell_type": "code",
   "execution_count": 19,
   "metadata": {},
   "outputs": [
    {
     "data": {
      "text/plain": [
       "9     [-0.4568362236022949, 0.5503043532371521, 0.34...\n",
       "11    [-0.17976942658424377, 0.566508412361145, 0.63...\n",
       "19    [-0.44182315468788147, 0.6549928784370422, 0.4...\n",
       "20    [-0.506714403629303, 0.45071983337402344, 0.34...\n",
       "Name: name_bert_64, dtype: object"
      ]
     },
     "execution_count": 19,
     "metadata": {},
     "output_type": "execute_result"
    }
   ],
   "source": [
    "v1"
   ]
  },
  {
   "cell_type": "code",
   "execution_count": 24,
   "metadata": {},
   "outputs": [
    {
     "data": {
      "text/plain": [
       "array([array([-0.45683622,  0.55030435,  0.34528145, -0.38536412,  0.55348432,\n",
       "               0.24407016,  0.12141596, -0.6282658 ,  0.44470701, -0.42592913,\n",
       "              -0.36804524,  0.4462226 ,  0.52741855, -0.56059015,  0.61838758,\n",
       "               0.2905615 ,  0.78043544,  0.2487168 ,  0.49104854, -0.67635238,\n",
       "               0.42872718, -0.56623322,  0.68015361, -0.43936908, -0.54588348,\n",
       "              -0.43840981, -0.40714613, -0.40869942,  0.4093926 , -0.65556622,\n",
       "              -0.39868125,  0.73957711, -0.61578703, -0.0894044 ,  0.44890663,\n",
       "              -0.13163649,  0.67995858, -0.46124947,  0.64201814,  0.4697935 ,\n",
       "               0.46544999,  0.63653398,  0.67083335, -0.68590063, -0.37578985,\n",
       "              -0.32198417, -0.56643045,  0.61909652,  0.09349617, -0.41684291,\n",
       "              -0.51329774,  0.42646414,  0.42709559, -0.11031042,  0.59824586,\n",
       "              -0.80498785,  0.63994873,  0.47379568, -0.4825668 , -0.47868633,\n",
       "              -0.21652791,  0.32697827,  0.68696302, -0.21784076])            ,\n",
       "       array([-0.17976943,  0.56650841,  0.63865989, -0.2708748 ,  0.74532396,\n",
       "               0.48875713,  0.05123479, -0.62030506,  0.71257877, -0.36957231,\n",
       "              -0.69981229,  0.31231654,  0.52534521, -0.59722167,  0.22310618,\n",
       "               0.67044318,  0.21365049,  0.39628008,  0.42171016, -0.55487281,\n",
       "               0.49557719, -0.7506426 ,  0.59956867, -0.41112968, -0.51621079,\n",
       "              -0.5341984 , -0.57757187, -0.43036848,  0.37229154, -0.45848611,\n",
       "               0.01123223,  0.65991551, -0.70392156, -0.56358075,  0.63249087,\n",
       "              -0.37275591,  0.54058909, -0.66168541,  0.66657436,  0.71869195,\n",
       "               0.59873754,  0.52245122,  0.4466984 , -0.24439861, -0.51827192,\n",
       "              -0.45417565, -0.72033715,  0.33041063, -0.35784501, -0.59058809,\n",
       "              -0.2572493 ,  0.33658013,  0.06108586, -0.06812266,  0.47517842,\n",
       "              -0.43539914,  0.74483734,  0.56339073, -0.43736663, -0.26938504,\n",
       "              -0.46243173,  0.62321311,  0.36674035, -0.4378283 ])            ,\n",
       "       array([-0.44182315,  0.65499288,  0.41886011, -0.59656286,  0.68249041,\n",
       "               0.66018099, -0.10689155, -0.6302371 ,  0.27424097, -0.70898056,\n",
       "              -0.0031453 ,  0.30210823,  0.44377992, -0.54312509,  0.62139225,\n",
       "               0.64349151,  0.38431445,  0.20332472,  0.26498222, -0.61646432,\n",
       "               0.41109121, -0.77356189,  0.42409667, -0.63214618, -0.48764756,\n",
       "              -0.52387887, -0.55746347, -0.52344596,  0.46315488, -0.20199931,\n",
       "              -0.39214396,  0.7021873 , -0.36286721, -0.17152803,  0.6318928 ,\n",
       "              -0.01725431,  0.4817749 , -0.5085972 ,  0.70884538,  0.42397931,\n",
       "               0.38592377,  0.55036002,  0.41511002, -0.39461559, -0.40821812,\n",
       "              -0.48073393, -0.31457406,  0.26174316, -0.27193618, -0.7100358 ,\n",
       "              -0.45053667,  0.38879088,  0.27446645, -0.04661058,  0.54559046,\n",
       "              -0.27268323,  0.41374981,  0.45886254, -0.26612189, -0.4935115 ,\n",
       "              -0.53833902,  0.67717546,  0.39316717, -0.46524242])            ,\n",
       "       array([-0.5067144 ,  0.45071983,  0.34511775, -0.49000406,  0.50773966,\n",
       "               0.47933936,  0.27682447, -0.58109707,  0.40045407, -0.55622733,\n",
       "              -0.61359501,  0.72385639,  0.4471471 , -0.6052714 ,  0.55203903,\n",
       "               0.37060446,  0.63041699,  0.40400812,  0.60204691, -0.57983696,\n",
       "               0.24042474, -0.20550056,  0.55569524, -0.5976938 , -0.69139898,\n",
       "              -0.48481712, -0.25803199, -0.43434998,  0.66454083, -0.38732392,\n",
       "              -0.40437555,  0.41621324, -0.0722767 , -0.34572533,  0.35943669,\n",
       "              -0.60354513,  0.68848163, -0.56332517,  0.50356609,  0.26386985,\n",
       "               0.55682665,  0.53486723,  0.3601703 , -0.64822561, -0.50555253,\n",
       "              -0.64835995, -0.65139592,  0.44441834, -0.40880537, -0.5505898 ,\n",
       "              -0.42112651,  0.28830099, -0.04762604, -0.16505036,  0.41040313,\n",
       "              -0.8048473 ,  0.69252408,  0.67601717, -0.45328045, -0.64652133,\n",
       "              -0.53176028,  0.61676836,  0.57372999, -0.4820621 ])            ],\n",
       "      dtype=object)"
      ]
     },
     "execution_count": 24,
     "metadata": {},
     "output_type": "execute_result"
    }
   ],
   "source": [
    "v1 = v1.to_numpy()\n",
    "v1"
   ]
  },
  {
   "cell_type": "code",
   "execution_count": 28,
   "metadata": {},
   "outputs": [],
   "source": [
    "_tmp = pd.DataFrame()\n",
    "_tmp[\"d\"] = v1\n",
    "_tmp.to_csv(\"tmp.csv\")"
   ]
  },
  {
   "cell_type": "code",
   "execution_count": 30,
   "metadata": {},
   "outputs": [],
   "source": [
    "_tmp.to_csv(\"tmp.csv\", mode=\"a\", header=False)"
   ]
  },
  {
   "cell_type": "code",
   "execution_count": 32,
   "metadata": {},
   "outputs": [],
   "source": [
    "with open(\"tmp.csv\", mode=\"a\") as f:\n",
    "    _tmp.to_csv(f, header=False)"
   ]
  },
  {
   "cell_type": "code",
   "execution_count": 41,
   "metadata": {},
   "outputs": [
    {
     "ename": "SyntaxError",
     "evalue": "invalid syntax (2776051482.py, line 1)",
     "output_type": "error",
     "traceback": [
      "\u001b[0;36m  Cell \u001b[0;32mIn[41], line 1\u001b[0;36m\u001b[0m\n\u001b[0;31m    batch1_resnet.iloc[0][]\u001b[0m\n\u001b[0m                          ^\u001b[0m\n\u001b[0;31mSyntaxError\u001b[0m\u001b[0;31m:\u001b[0m invalid syntax\n"
     ]
    }
   ],
   "source": [
    "batch1_resnet.iloc[0][]"
   ]
  },
  {
   "cell_type": "code",
   "execution_count": 39,
   "metadata": {},
   "outputs": [
    {
     "data": {
      "text/plain": [
       "'[-0.45683622  0.55030435  0.34528145 -0.38536412  0.55348432  0.24407016\\n  0.12141596 -0.6282658   0.44470701 -0.42592913 -0.36804524  0.4462226\\n  0.52741855 -0.56059015  0.61838758  0.2905615   0.78043544  0.2487168\\n  0.49104854 -0.67635238  0.42872718 -0.56623322  0.68015361 -0.43936908\\n -0.54588348 -0.43840981 -0.40714613 -0.40869942  0.4093926  -0.65556622\\n -0.39868125  0.73957711 -0.61578703 -0.0894044   0.44890663 -0.13163649\\n  0.67995858 -0.46124947  0.64201814  0.4697935   0.46544999  0.63653398\\n  0.67083335 -0.68590063 -0.37578985 -0.32198417 -0.56643045  0.61909652\\n  0.09349617 -0.41684291 -0.51329774  0.42646414  0.42709559 -0.11031042\\n  0.59824586 -0.80498785  0.63994873  0.47379568 -0.4825668  -0.47868633\\n -0.21652791  0.32697827  0.68696302 -0.21784076]'"
      ]
     },
     "execution_count": 39,
     "metadata": {},
     "output_type": "execute_result"
    }
   ],
   "source": [
    "_read = pd.read_csv(\"tmp.csv\")\n",
    "_read[\"d\"].iloc[0]"
   ]
  },
  {
   "cell_type": "code",
   "execution_count": 7,
   "metadata": {},
   "outputs": [
    {
     "data": {
      "text/plain": [
       "numpy.ndarray"
      ]
     },
     "execution_count": 7,
     "metadata": {},
     "output_type": "execute_result"
    }
   ],
   "source": [
    "type(v1.iloc[0])"
   ]
  },
  {
   "cell_type": "code",
   "execution_count": 8,
   "metadata": {},
   "outputs": [],
   "source": [
    "v1 = np.stack(v1.values)\n",
    "v2 = np.stack(v2.values)"
   ]
  },
  {
   "cell_type": "code",
   "execution_count": 27,
   "metadata": {},
   "outputs": [
    {
     "data": {
      "text/plain": [
       "((4, 64), (4, 64))"
      ]
     },
     "execution_count": 27,
     "metadata": {},
     "output_type": "execute_result"
    }
   ],
   "source": [
    "v1.shape, v2.shape"
   ]
  },
  {
   "cell_type": "code",
   "execution_count": 40,
   "metadata": {},
   "outputs": [
    {
     "data": {
      "text/plain": [
       "array([[15.55341494, 15.30542899, 15.56756919, 15.08678904],\n",
       "       [15.33654315, 15.38110438, 15.39211611, 14.67295528],\n",
       "       [14.82052069, 14.60350118, 14.8855746 , 14.6623722 ],\n",
       "       [15.75056518, 15.59256198, 15.83573763, 15.04588048]])"
      ]
     },
     "execution_count": 40,
     "metadata": {},
     "output_type": "execute_result"
    }
   ],
   "source": [
    "v1 @ v2.T"
   ]
  },
  {
   "cell_type": "code",
   "execution_count": 22,
   "metadata": {},
   "outputs": [
    {
     "data": {
      "text/plain": [
       "array([[ 2.37486807],\n",
       "       [ 1.20579074],\n",
       "       [ 0.65319798],\n",
       "       [-0.90974531]])"
      ]
     },
     "execution_count": 22,
     "metadata": {},
     "output_type": "execute_result"
    }
   ],
   "source": [
    "row_sums[:, np.newaxis]"
   ]
  },
  {
   "cell_type": "code",
   "execution_count": 24,
   "metadata": {},
   "outputs": [
    {
     "data": {
      "text/plain": [
       "(3.998298943859963, 1.6835878180289439)"
      ]
     },
     "execution_count": 24,
     "metadata": {},
     "output_type": "execute_result"
    }
   ],
   "source": [
    "row_sums = v1.sum(axis=1)\n",
    "new_matrix = v1 / row_sums[:, np.newaxis]\n",
    "np.linalg.norm(v1[0]), np.linalg.norm(new_matrix[0])"
   ]
  },
  {
   "cell_type": "code",
   "execution_count": 44,
   "metadata": {},
   "outputs": [],
   "source": [
    "import pyarrow.parquet as pq\n",
    "\n",
    "resnet_pq = pq.ParquetFile(\"/home/konstfed/Documents/hackaton/matching-tovarov-5699/data/train/resnet.parquet\")\n",
    "\n",
    "for resnet_batch in resnet_pq.iter_batches(batch_size=1000):\n",
    "    resnet_df = resnet_batch.to_pandas()\n",
    "    break"
   ]
  },
  {
   "cell_type": "code",
   "execution_count": 66,
   "metadata": {},
   "outputs": [],
   "source": [
    "def transform(resnet_df: pd.DataFrame):\n",
    "    resnet_df.main_pic_embeddings_resnet_v1 = resnet_df.main_pic_embeddings_resnet_v1.apply(lambda x: x[0])\n",
    "    resnet_df.pic_embeddings_resnet_v1 = resnet_df.pic_embeddings_resnet_v1.apply(lambda x: x if x is None else np.array(list(x)))\n",
    "    return resnet_df"
   ]
  },
  {
   "cell_type": "code",
   "execution_count": 64,
   "metadata": {},
   "outputs": [
    {
     "data": {
      "text/html": [
       "<div>\n",
       "<style scoped>\n",
       "    .dataframe tbody tr th:only-of-type {\n",
       "        vertical-align: middle;\n",
       "    }\n",
       "\n",
       "    .dataframe tbody tr th {\n",
       "        vertical-align: top;\n",
       "    }\n",
       "\n",
       "    .dataframe thead th {\n",
       "        text-align: right;\n",
       "    }\n",
       "</style>\n",
       "<table border=\"1\" class=\"dataframe\">\n",
       "  <thead>\n",
       "    <tr style=\"text-align: right;\">\n",
       "      <th></th>\n",
       "      <th>variantid</th>\n",
       "      <th>main_pic_embeddings_resnet_v1</th>\n",
       "      <th>pic_embeddings_resnet_v1</th>\n",
       "    </tr>\n",
       "  </thead>\n",
       "  <tbody>\n",
       "    <tr>\n",
       "      <th>0</th>\n",
       "      <td>47920382</td>\n",
       "      <td>[[0.8170074820518494, 0.9416620135307312, 0.31...</td>\n",
       "      <td>[[0.20931944251060486, -0.29257065057754517, -...</td>\n",
       "    </tr>\n",
       "    <tr>\n",
       "      <th>1</th>\n",
       "      <td>49801845</td>\n",
       "      <td>[[-0.43339717388153076, -0.17318281531333923, ...</td>\n",
       "      <td>None</td>\n",
       "    </tr>\n",
       "    <tr>\n",
       "      <th>2</th>\n",
       "      <td>49853444</td>\n",
       "      <td>[[0.11314830183982849, -0.34010639786720276, -...</td>\n",
       "      <td>None</td>\n",
       "    </tr>\n",
       "    <tr>\n",
       "      <th>3</th>\n",
       "      <td>49893028</td>\n",
       "      <td>[[0.25037717819213867, 0.33753663301467896, 0....</td>\n",
       "      <td>None</td>\n",
       "    </tr>\n",
       "    <tr>\n",
       "      <th>4</th>\n",
       "      <td>49987483</td>\n",
       "      <td>[[0.43453288078308105, 0.09419603645801544, -0...</td>\n",
       "      <td>[[-0.18672508001327515, -0.2851635217666626, -...</td>\n",
       "    </tr>\n",
       "    <tr>\n",
       "      <th>...</th>\n",
       "      <td>...</td>\n",
       "      <td>...</td>\n",
       "      <td>...</td>\n",
       "    </tr>\n",
       "    <tr>\n",
       "      <th>995</th>\n",
       "      <td>626506280</td>\n",
       "      <td>[[-0.20631232857704163, 0.06580600142478943, 0...</td>\n",
       "      <td>[[-0.03329319506883621, -0.1395496129989624, 0...</td>\n",
       "    </tr>\n",
       "    <tr>\n",
       "      <th>996</th>\n",
       "      <td>627025231</td>\n",
       "      <td>[[0.16988249123096466, -0.4923829436302185, 1....</td>\n",
       "      <td>[[-0.11524864286184311, -0.166884183883667, 0....</td>\n",
       "    </tr>\n",
       "    <tr>\n",
       "      <th>997</th>\n",
       "      <td>627179077</td>\n",
       "      <td>[[-0.6392371654510498, 0.827077329158783, 0.72...</td>\n",
       "      <td>[[-0.5296839475631714, 0.809177577495575, 0.44...</td>\n",
       "    </tr>\n",
       "    <tr>\n",
       "      <th>998</th>\n",
       "      <td>627647865</td>\n",
       "      <td>[[-0.9934021830558777, -0.30172640085220337, -...</td>\n",
       "      <td>[[-0.23530462384223938, -0.12177957594394684, ...</td>\n",
       "    </tr>\n",
       "    <tr>\n",
       "      <th>999</th>\n",
       "      <td>628056916</td>\n",
       "      <td>[[0.5831665396690369, -0.805409848690033, -0.1...</td>\n",
       "      <td>[[-0.40871888399124146, -0.008702978491783142,...</td>\n",
       "    </tr>\n",
       "  </tbody>\n",
       "</table>\n",
       "<p>1000 rows × 3 columns</p>\n",
       "</div>"
      ],
      "text/plain": [
       "     variantid                      main_pic_embeddings_resnet_v1  \\\n",
       "0     47920382  [[0.8170074820518494, 0.9416620135307312, 0.31...   \n",
       "1     49801845  [[-0.43339717388153076, -0.17318281531333923, ...   \n",
       "2     49853444  [[0.11314830183982849, -0.34010639786720276, -...   \n",
       "3     49893028  [[0.25037717819213867, 0.33753663301467896, 0....   \n",
       "4     49987483  [[0.43453288078308105, 0.09419603645801544, -0...   \n",
       "..         ...                                                ...   \n",
       "995  626506280  [[-0.20631232857704163, 0.06580600142478943, 0...   \n",
       "996  627025231  [[0.16988249123096466, -0.4923829436302185, 1....   \n",
       "997  627179077  [[-0.6392371654510498, 0.827077329158783, 0.72...   \n",
       "998  627647865  [[-0.9934021830558777, -0.30172640085220337, -...   \n",
       "999  628056916  [[0.5831665396690369, -0.805409848690033, -0.1...   \n",
       "\n",
       "                              pic_embeddings_resnet_v1  \n",
       "0    [[0.20931944251060486, -0.29257065057754517, -...  \n",
       "1                                                 None  \n",
       "2                                                 None  \n",
       "3                                                 None  \n",
       "4    [[-0.18672508001327515, -0.2851635217666626, -...  \n",
       "..                                                 ...  \n",
       "995  [[-0.03329319506883621, -0.1395496129989624, 0...  \n",
       "996  [[-0.11524864286184311, -0.166884183883667, 0....  \n",
       "997  [[-0.5296839475631714, 0.809177577495575, 0.44...  \n",
       "998  [[-0.23530462384223938, -0.12177957594394684, ...  \n",
       "999  [[-0.40871888399124146, -0.008702978491783142,...  \n",
       "\n",
       "[1000 rows x 3 columns]"
      ]
     },
     "execution_count": 64,
     "metadata": {},
     "output_type": "execute_result"
    }
   ],
   "source": [
    "resnet_df"
   ]
  },
  {
   "cell_type": "code",
   "execution_count": 67,
   "metadata": {},
   "outputs": [],
   "source": [
    "transformed = transform(resnet_df)"
   ]
  },
  {
   "cell_type": "code",
   "execution_count": 77,
   "metadata": {},
   "outputs": [
    {
     "data": {
      "text/html": [
       "<div>\n",
       "<style scoped>\n",
       "    .dataframe tbody tr th:only-of-type {\n",
       "        vertical-align: middle;\n",
       "    }\n",
       "\n",
       "    .dataframe tbody tr th {\n",
       "        vertical-align: top;\n",
       "    }\n",
       "\n",
       "    .dataframe thead th {\n",
       "        text-align: right;\n",
       "    }\n",
       "</style>\n",
       "<table border=\"1\" class=\"dataframe\">\n",
       "  <thead>\n",
       "    <tr style=\"text-align: right;\">\n",
       "      <th></th>\n",
       "      <th>variantid</th>\n",
       "      <th>main_pic_embeddings_resnet_v1</th>\n",
       "      <th>pic_embeddings_resnet_v1</th>\n",
       "    </tr>\n",
       "  </thead>\n",
       "  <tbody>\n",
       "    <tr>\n",
       "      <th>0</th>\n",
       "      <td>47920382</td>\n",
       "      <td>[0.8170074820518494, 0.9416620135307312, 0.310...</td>\n",
       "      <td>[[0.20931944251060486, -0.29257065057754517, -...</td>\n",
       "    </tr>\n",
       "    <tr>\n",
       "      <th>1</th>\n",
       "      <td>49801845</td>\n",
       "      <td>[-0.43339717388153076, -0.17318281531333923, -...</td>\n",
       "      <td>None</td>\n",
       "    </tr>\n",
       "    <tr>\n",
       "      <th>2</th>\n",
       "      <td>49853444</td>\n",
       "      <td>[0.11314830183982849, -0.34010639786720276, -0...</td>\n",
       "      <td>None</td>\n",
       "    </tr>\n",
       "    <tr>\n",
       "      <th>3</th>\n",
       "      <td>49893028</td>\n",
       "      <td>[0.25037717819213867, 0.33753663301467896, 0.2...</td>\n",
       "      <td>None</td>\n",
       "    </tr>\n",
       "    <tr>\n",
       "      <th>4</th>\n",
       "      <td>49987483</td>\n",
       "      <td>[0.43453288078308105, 0.09419603645801544, -0....</td>\n",
       "      <td>[[-0.18672508001327515, -0.2851635217666626, -...</td>\n",
       "    </tr>\n",
       "    <tr>\n",
       "      <th>...</th>\n",
       "      <td>...</td>\n",
       "      <td>...</td>\n",
       "      <td>...</td>\n",
       "    </tr>\n",
       "    <tr>\n",
       "      <th>995</th>\n",
       "      <td>626506280</td>\n",
       "      <td>[-0.20631232857704163, 0.06580600142478943, 0....</td>\n",
       "      <td>[[-0.03329319506883621, -0.1395496129989624, 0...</td>\n",
       "    </tr>\n",
       "    <tr>\n",
       "      <th>996</th>\n",
       "      <td>627025231</td>\n",
       "      <td>[0.16988249123096466, -0.4923829436302185, 1.4...</td>\n",
       "      <td>[[-0.11524864286184311, -0.166884183883667, 0....</td>\n",
       "    </tr>\n",
       "    <tr>\n",
       "      <th>997</th>\n",
       "      <td>627179077</td>\n",
       "      <td>[-0.6392371654510498, 0.827077329158783, 0.724...</td>\n",
       "      <td>[[-0.5296839475631714, 0.809177577495575, 0.44...</td>\n",
       "    </tr>\n",
       "    <tr>\n",
       "      <th>998</th>\n",
       "      <td>627647865</td>\n",
       "      <td>[-0.9934021830558777, -0.30172640085220337, -0...</td>\n",
       "      <td>[[-0.23530462384223938, -0.12177957594394684, ...</td>\n",
       "    </tr>\n",
       "    <tr>\n",
       "      <th>999</th>\n",
       "      <td>628056916</td>\n",
       "      <td>[0.5831665396690369, -0.805409848690033, -0.14...</td>\n",
       "      <td>[[-0.40871888399124146, -0.008702978491783142,...</td>\n",
       "    </tr>\n",
       "  </tbody>\n",
       "</table>\n",
       "<p>1000 rows × 3 columns</p>\n",
       "</div>"
      ],
      "text/plain": [
       "     variantid                      main_pic_embeddings_resnet_v1  \\\n",
       "0     47920382  [0.8170074820518494, 0.9416620135307312, 0.310...   \n",
       "1     49801845  [-0.43339717388153076, -0.17318281531333923, -...   \n",
       "2     49853444  [0.11314830183982849, -0.34010639786720276, -0...   \n",
       "3     49893028  [0.25037717819213867, 0.33753663301467896, 0.2...   \n",
       "4     49987483  [0.43453288078308105, 0.09419603645801544, -0....   \n",
       "..         ...                                                ...   \n",
       "995  626506280  [-0.20631232857704163, 0.06580600142478943, 0....   \n",
       "996  627025231  [0.16988249123096466, -0.4923829436302185, 1.4...   \n",
       "997  627179077  [-0.6392371654510498, 0.827077329158783, 0.724...   \n",
       "998  627647865  [-0.9934021830558777, -0.30172640085220337, -0...   \n",
       "999  628056916  [0.5831665396690369, -0.805409848690033, -0.14...   \n",
       "\n",
       "                              pic_embeddings_resnet_v1  \n",
       "0    [[0.20931944251060486, -0.29257065057754517, -...  \n",
       "1                                                 None  \n",
       "2                                                 None  \n",
       "3                                                 None  \n",
       "4    [[-0.18672508001327515, -0.2851635217666626, -...  \n",
       "..                                                 ...  \n",
       "995  [[-0.03329319506883621, -0.1395496129989624, 0...  \n",
       "996  [[-0.11524864286184311, -0.166884183883667, 0....  \n",
       "997  [[-0.5296839475631714, 0.809177577495575, 0.44...  \n",
       "998  [[-0.23530462384223938, -0.12177957594394684, ...  \n",
       "999  [[-0.40871888399124146, -0.008702978491783142,...  \n",
       "\n",
       "[1000 rows x 3 columns]"
      ]
     },
     "execution_count": 77,
     "metadata": {},
     "output_type": "execute_result"
    }
   ],
   "source": [
    "transformed"
   ]
  },
  {
   "cell_type": "code",
   "execution_count": 79,
   "metadata": {},
   "outputs": [
    {
     "ename": "ArrowInvalid",
     "evalue": "('Can only convert 1-dimensional array values', 'Conversion failed for column pic_embeddings_resnet_v1 with type object')",
     "output_type": "error",
     "traceback": [
      "\u001b[0;31m---------------------------------------------------------------------------\u001b[0m",
      "\u001b[0;31mArrowInvalid\u001b[0m                              Traceback (most recent call last)",
      "Cell \u001b[0;32mIn[79], line 1\u001b[0m\n\u001b[0;32m----> 1\u001b[0m \u001b[43mresnet_df\u001b[49m\u001b[38;5;241;43m.\u001b[39;49m\u001b[43mto_parquet\u001b[49m\u001b[43m(\u001b[49m\u001b[38;5;124;43m\"\u001b[39;49m\u001b[38;5;124;43mtmp.parquet\u001b[39;49m\u001b[38;5;124;43m\"\u001b[39;49m\u001b[43m)\u001b[49m\n",
      "File \u001b[0;32m~/Documents/hackaton/matching-tovarov-5699/venv/lib/python3.11/site-packages/pandas/core/frame.py:2889\u001b[0m, in \u001b[0;36mDataFrame.to_parquet\u001b[0;34m(self, path, engine, compression, index, partition_cols, storage_options, **kwargs)\u001b[0m\n\u001b[1;32m   2802\u001b[0m \u001b[38;5;250m\u001b[39m\u001b[38;5;124;03m\"\"\"\u001b[39;00m\n\u001b[1;32m   2803\u001b[0m \u001b[38;5;124;03mWrite a DataFrame to the binary parquet format.\u001b[39;00m\n\u001b[1;32m   2804\u001b[0m \n\u001b[0;32m   (...)\u001b[0m\n\u001b[1;32m   2885\u001b[0m \u001b[38;5;124;03m>>> content = f.read()\u001b[39;00m\n\u001b[1;32m   2886\u001b[0m \u001b[38;5;124;03m\"\"\"\u001b[39;00m\n\u001b[1;32m   2887\u001b[0m \u001b[38;5;28;01mfrom\u001b[39;00m \u001b[38;5;21;01mpandas\u001b[39;00m\u001b[38;5;21;01m.\u001b[39;00m\u001b[38;5;21;01mio\u001b[39;00m\u001b[38;5;21;01m.\u001b[39;00m\u001b[38;5;21;01mparquet\u001b[39;00m \u001b[38;5;28;01mimport\u001b[39;00m to_parquet\n\u001b[0;32m-> 2889\u001b[0m \u001b[38;5;28;01mreturn\u001b[39;00m \u001b[43mto_parquet\u001b[49m\u001b[43m(\u001b[49m\n\u001b[1;32m   2890\u001b[0m \u001b[43m    \u001b[49m\u001b[38;5;28;43mself\u001b[39;49m\u001b[43m,\u001b[49m\n\u001b[1;32m   2891\u001b[0m \u001b[43m    \u001b[49m\u001b[43mpath\u001b[49m\u001b[43m,\u001b[49m\n\u001b[1;32m   2892\u001b[0m \u001b[43m    \u001b[49m\u001b[43mengine\u001b[49m\u001b[43m,\u001b[49m\n\u001b[1;32m   2893\u001b[0m \u001b[43m    \u001b[49m\u001b[43mcompression\u001b[49m\u001b[38;5;241;43m=\u001b[39;49m\u001b[43mcompression\u001b[49m\u001b[43m,\u001b[49m\n\u001b[1;32m   2894\u001b[0m \u001b[43m    \u001b[49m\u001b[43mindex\u001b[49m\u001b[38;5;241;43m=\u001b[39;49m\u001b[43mindex\u001b[49m\u001b[43m,\u001b[49m\n\u001b[1;32m   2895\u001b[0m \u001b[43m    \u001b[49m\u001b[43mpartition_cols\u001b[49m\u001b[38;5;241;43m=\u001b[39;49m\u001b[43mpartition_cols\u001b[49m\u001b[43m,\u001b[49m\n\u001b[1;32m   2896\u001b[0m \u001b[43m    \u001b[49m\u001b[43mstorage_options\u001b[49m\u001b[38;5;241;43m=\u001b[39;49m\u001b[43mstorage_options\u001b[49m\u001b[43m,\u001b[49m\n\u001b[1;32m   2897\u001b[0m \u001b[43m    \u001b[49m\u001b[38;5;241;43m*\u001b[39;49m\u001b[38;5;241;43m*\u001b[39;49m\u001b[43mkwargs\u001b[49m\u001b[43m,\u001b[49m\n\u001b[1;32m   2898\u001b[0m \u001b[43m\u001b[49m\u001b[43m)\u001b[49m\n",
      "File \u001b[0;32m~/Documents/hackaton/matching-tovarov-5699/venv/lib/python3.11/site-packages/pandas/io/parquet.py:411\u001b[0m, in \u001b[0;36mto_parquet\u001b[0;34m(df, path, engine, compression, index, storage_options, partition_cols, **kwargs)\u001b[0m\n\u001b[1;32m    407\u001b[0m impl \u001b[38;5;241m=\u001b[39m get_engine(engine)\n\u001b[1;32m    409\u001b[0m path_or_buf: FilePath \u001b[38;5;241m|\u001b[39m WriteBuffer[\u001b[38;5;28mbytes\u001b[39m] \u001b[38;5;241m=\u001b[39m io\u001b[38;5;241m.\u001b[39mBytesIO() \u001b[38;5;28;01mif\u001b[39;00m path \u001b[38;5;129;01mis\u001b[39;00m \u001b[38;5;28;01mNone\u001b[39;00m \u001b[38;5;28;01melse\u001b[39;00m path\n\u001b[0;32m--> 411\u001b[0m \u001b[43mimpl\u001b[49m\u001b[38;5;241;43m.\u001b[39;49m\u001b[43mwrite\u001b[49m\u001b[43m(\u001b[49m\n\u001b[1;32m    412\u001b[0m \u001b[43m    \u001b[49m\u001b[43mdf\u001b[49m\u001b[43m,\u001b[49m\n\u001b[1;32m    413\u001b[0m \u001b[43m    \u001b[49m\u001b[43mpath_or_buf\u001b[49m\u001b[43m,\u001b[49m\n\u001b[1;32m    414\u001b[0m \u001b[43m    \u001b[49m\u001b[43mcompression\u001b[49m\u001b[38;5;241;43m=\u001b[39;49m\u001b[43mcompression\u001b[49m\u001b[43m,\u001b[49m\n\u001b[1;32m    415\u001b[0m \u001b[43m    \u001b[49m\u001b[43mindex\u001b[49m\u001b[38;5;241;43m=\u001b[39;49m\u001b[43mindex\u001b[49m\u001b[43m,\u001b[49m\n\u001b[1;32m    416\u001b[0m \u001b[43m    \u001b[49m\u001b[43mpartition_cols\u001b[49m\u001b[38;5;241;43m=\u001b[39;49m\u001b[43mpartition_cols\u001b[49m\u001b[43m,\u001b[49m\n\u001b[1;32m    417\u001b[0m \u001b[43m    \u001b[49m\u001b[43mstorage_options\u001b[49m\u001b[38;5;241;43m=\u001b[39;49m\u001b[43mstorage_options\u001b[49m\u001b[43m,\u001b[49m\n\u001b[1;32m    418\u001b[0m \u001b[43m    \u001b[49m\u001b[38;5;241;43m*\u001b[39;49m\u001b[38;5;241;43m*\u001b[39;49m\u001b[43mkwargs\u001b[49m\u001b[43m,\u001b[49m\n\u001b[1;32m    419\u001b[0m \u001b[43m\u001b[49m\u001b[43m)\u001b[49m\n\u001b[1;32m    421\u001b[0m \u001b[38;5;28;01mif\u001b[39;00m path \u001b[38;5;129;01mis\u001b[39;00m \u001b[38;5;28;01mNone\u001b[39;00m:\n\u001b[1;32m    422\u001b[0m     \u001b[38;5;28;01massert\u001b[39;00m \u001b[38;5;28misinstance\u001b[39m(path_or_buf, io\u001b[38;5;241m.\u001b[39mBytesIO)\n",
      "File \u001b[0;32m~/Documents/hackaton/matching-tovarov-5699/venv/lib/python3.11/site-packages/pandas/io/parquet.py:159\u001b[0m, in \u001b[0;36mPyArrowImpl.write\u001b[0;34m(self, df, path, compression, index, storage_options, partition_cols, **kwargs)\u001b[0m\n\u001b[1;32m    156\u001b[0m \u001b[38;5;28;01mif\u001b[39;00m index \u001b[38;5;129;01mis\u001b[39;00m \u001b[38;5;129;01mnot\u001b[39;00m \u001b[38;5;28;01mNone\u001b[39;00m:\n\u001b[1;32m    157\u001b[0m     from_pandas_kwargs[\u001b[38;5;124m\"\u001b[39m\u001b[38;5;124mpreserve_index\u001b[39m\u001b[38;5;124m\"\u001b[39m] \u001b[38;5;241m=\u001b[39m index\n\u001b[0;32m--> 159\u001b[0m table \u001b[38;5;241m=\u001b[39m \u001b[38;5;28;43mself\u001b[39;49m\u001b[38;5;241;43m.\u001b[39;49m\u001b[43mapi\u001b[49m\u001b[38;5;241;43m.\u001b[39;49m\u001b[43mTable\u001b[49m\u001b[38;5;241;43m.\u001b[39;49m\u001b[43mfrom_pandas\u001b[49m\u001b[43m(\u001b[49m\u001b[43mdf\u001b[49m\u001b[43m,\u001b[49m\u001b[43m \u001b[49m\u001b[38;5;241;43m*\u001b[39;49m\u001b[38;5;241;43m*\u001b[39;49m\u001b[43mfrom_pandas_kwargs\u001b[49m\u001b[43m)\u001b[49m\n\u001b[1;32m    161\u001b[0m path_or_handle, handles, kwargs[\u001b[38;5;124m\"\u001b[39m\u001b[38;5;124mfilesystem\u001b[39m\u001b[38;5;124m\"\u001b[39m] \u001b[38;5;241m=\u001b[39m _get_path_or_handle(\n\u001b[1;32m    162\u001b[0m     path,\n\u001b[1;32m    163\u001b[0m     kwargs\u001b[38;5;241m.\u001b[39mpop(\u001b[38;5;124m\"\u001b[39m\u001b[38;5;124mfilesystem\u001b[39m\u001b[38;5;124m\"\u001b[39m, \u001b[38;5;28;01mNone\u001b[39;00m),\n\u001b[0;32m   (...)\u001b[0m\n\u001b[1;32m    166\u001b[0m     is_dir\u001b[38;5;241m=\u001b[39mpartition_cols \u001b[38;5;129;01mis\u001b[39;00m \u001b[38;5;129;01mnot\u001b[39;00m \u001b[38;5;28;01mNone\u001b[39;00m,\n\u001b[1;32m    167\u001b[0m )\n\u001b[1;32m    168\u001b[0m \u001b[38;5;28;01mif\u001b[39;00m (\n\u001b[1;32m    169\u001b[0m     \u001b[38;5;28misinstance\u001b[39m(path_or_handle, io\u001b[38;5;241m.\u001b[39mBufferedWriter)\n\u001b[1;32m    170\u001b[0m     \u001b[38;5;129;01mand\u001b[39;00m \u001b[38;5;28mhasattr\u001b[39m(path_or_handle, \u001b[38;5;124m\"\u001b[39m\u001b[38;5;124mname\u001b[39m\u001b[38;5;124m\"\u001b[39m)\n\u001b[1;32m    171\u001b[0m     \u001b[38;5;129;01mand\u001b[39;00m \u001b[38;5;28misinstance\u001b[39m(path_or_handle\u001b[38;5;241m.\u001b[39mname, (\u001b[38;5;28mstr\u001b[39m, \u001b[38;5;28mbytes\u001b[39m))\n\u001b[1;32m    172\u001b[0m ):\n",
      "File \u001b[0;32m~/Documents/hackaton/matching-tovarov-5699/venv/lib/python3.11/site-packages/pyarrow/table.pxi:4623\u001b[0m, in \u001b[0;36mpyarrow.lib.Table.from_pandas\u001b[0;34m()\u001b[0m\n",
      "File \u001b[0;32m~/Documents/hackaton/matching-tovarov-5699/venv/lib/python3.11/site-packages/pyarrow/pandas_compat.py:629\u001b[0m, in \u001b[0;36mdataframe_to_arrays\u001b[0;34m(df, schema, preserve_index, nthreads, columns, safe)\u001b[0m\n\u001b[1;32m    627\u001b[0m     \u001b[38;5;28;01mfor\u001b[39;00m i, maybe_fut \u001b[38;5;129;01min\u001b[39;00m \u001b[38;5;28menumerate\u001b[39m(arrays):\n\u001b[1;32m    628\u001b[0m         \u001b[38;5;28;01mif\u001b[39;00m \u001b[38;5;28misinstance\u001b[39m(maybe_fut, futures\u001b[38;5;241m.\u001b[39mFuture):\n\u001b[0;32m--> 629\u001b[0m             arrays[i] \u001b[38;5;241m=\u001b[39m \u001b[43mmaybe_fut\u001b[49m\u001b[38;5;241;43m.\u001b[39;49m\u001b[43mresult\u001b[49m\u001b[43m(\u001b[49m\u001b[43m)\u001b[49m\n\u001b[1;32m    631\u001b[0m types \u001b[38;5;241m=\u001b[39m [x\u001b[38;5;241m.\u001b[39mtype \u001b[38;5;28;01mfor\u001b[39;00m x \u001b[38;5;129;01min\u001b[39;00m arrays]\n\u001b[1;32m    633\u001b[0m \u001b[38;5;28;01mif\u001b[39;00m schema \u001b[38;5;129;01mis\u001b[39;00m \u001b[38;5;28;01mNone\u001b[39;00m:\n",
      "File \u001b[0;32m~/.pyenv/versions/3.11.9/lib/python3.11/concurrent/futures/_base.py:449\u001b[0m, in \u001b[0;36mFuture.result\u001b[0;34m(self, timeout)\u001b[0m\n\u001b[1;32m    447\u001b[0m     \u001b[38;5;28;01mraise\u001b[39;00m CancelledError()\n\u001b[1;32m    448\u001b[0m \u001b[38;5;28;01melif\u001b[39;00m \u001b[38;5;28mself\u001b[39m\u001b[38;5;241m.\u001b[39m_state \u001b[38;5;241m==\u001b[39m FINISHED:\n\u001b[0;32m--> 449\u001b[0m     \u001b[38;5;28;01mreturn\u001b[39;00m \u001b[38;5;28;43mself\u001b[39;49m\u001b[38;5;241;43m.\u001b[39;49m\u001b[43m__get_result\u001b[49m\u001b[43m(\u001b[49m\u001b[43m)\u001b[49m\n\u001b[1;32m    451\u001b[0m \u001b[38;5;28mself\u001b[39m\u001b[38;5;241m.\u001b[39m_condition\u001b[38;5;241m.\u001b[39mwait(timeout)\n\u001b[1;32m    453\u001b[0m \u001b[38;5;28;01mif\u001b[39;00m \u001b[38;5;28mself\u001b[39m\u001b[38;5;241m.\u001b[39m_state \u001b[38;5;129;01min\u001b[39;00m [CANCELLED, CANCELLED_AND_NOTIFIED]:\n",
      "File \u001b[0;32m~/.pyenv/versions/3.11.9/lib/python3.11/concurrent/futures/_base.py:401\u001b[0m, in \u001b[0;36mFuture.__get_result\u001b[0;34m(self)\u001b[0m\n\u001b[1;32m    399\u001b[0m \u001b[38;5;28;01mif\u001b[39;00m \u001b[38;5;28mself\u001b[39m\u001b[38;5;241m.\u001b[39m_exception:\n\u001b[1;32m    400\u001b[0m     \u001b[38;5;28;01mtry\u001b[39;00m:\n\u001b[0;32m--> 401\u001b[0m         \u001b[38;5;28;01mraise\u001b[39;00m \u001b[38;5;28mself\u001b[39m\u001b[38;5;241m.\u001b[39m_exception\n\u001b[1;32m    402\u001b[0m     \u001b[38;5;28;01mfinally\u001b[39;00m:\n\u001b[1;32m    403\u001b[0m         \u001b[38;5;66;03m# Break a reference cycle with the exception in self._exception\u001b[39;00m\n\u001b[1;32m    404\u001b[0m         \u001b[38;5;28mself\u001b[39m \u001b[38;5;241m=\u001b[39m \u001b[38;5;28;01mNone\u001b[39;00m\n",
      "File \u001b[0;32m~/.pyenv/versions/3.11.9/lib/python3.11/concurrent/futures/thread.py:58\u001b[0m, in \u001b[0;36m_WorkItem.run\u001b[0;34m(self)\u001b[0m\n\u001b[1;32m     55\u001b[0m     \u001b[38;5;28;01mreturn\u001b[39;00m\n\u001b[1;32m     57\u001b[0m \u001b[38;5;28;01mtry\u001b[39;00m:\n\u001b[0;32m---> 58\u001b[0m     result \u001b[38;5;241m=\u001b[39m \u001b[38;5;28;43mself\u001b[39;49m\u001b[38;5;241;43m.\u001b[39;49m\u001b[43mfn\u001b[49m\u001b[43m(\u001b[49m\u001b[38;5;241;43m*\u001b[39;49m\u001b[38;5;28;43mself\u001b[39;49m\u001b[38;5;241;43m.\u001b[39;49m\u001b[43margs\u001b[49m\u001b[43m,\u001b[49m\u001b[43m \u001b[49m\u001b[38;5;241;43m*\u001b[39;49m\u001b[38;5;241;43m*\u001b[39;49m\u001b[38;5;28;43mself\u001b[39;49m\u001b[38;5;241;43m.\u001b[39;49m\u001b[43mkwargs\u001b[49m\u001b[43m)\u001b[49m\n\u001b[1;32m     59\u001b[0m \u001b[38;5;28;01mexcept\u001b[39;00m \u001b[38;5;167;01mBaseException\u001b[39;00m \u001b[38;5;28;01mas\u001b[39;00m exc:\n\u001b[1;32m     60\u001b[0m     \u001b[38;5;28mself\u001b[39m\u001b[38;5;241m.\u001b[39mfuture\u001b[38;5;241m.\u001b[39mset_exception(exc)\n",
      "File \u001b[0;32m~/Documents/hackaton/matching-tovarov-5699/venv/lib/python3.11/site-packages/pyarrow/pandas_compat.py:603\u001b[0m, in \u001b[0;36mdataframe_to_arrays.<locals>.convert_column\u001b[0;34m(col, field)\u001b[0m\n\u001b[1;32m    598\u001b[0m \u001b[38;5;28;01mexcept\u001b[39;00m (pa\u001b[38;5;241m.\u001b[39mArrowInvalid,\n\u001b[1;32m    599\u001b[0m         pa\u001b[38;5;241m.\u001b[39mArrowNotImplementedError,\n\u001b[1;32m    600\u001b[0m         pa\u001b[38;5;241m.\u001b[39mArrowTypeError) \u001b[38;5;28;01mas\u001b[39;00m e:\n\u001b[1;32m    601\u001b[0m     e\u001b[38;5;241m.\u001b[39margs \u001b[38;5;241m+\u001b[39m\u001b[38;5;241m=\u001b[39m (\u001b[38;5;124m\"\u001b[39m\u001b[38;5;124mConversion failed for column \u001b[39m\u001b[38;5;132;01m{!s}\u001b[39;00m\u001b[38;5;124m with type \u001b[39m\u001b[38;5;132;01m{!s}\u001b[39;00m\u001b[38;5;124m\"\u001b[39m\n\u001b[1;32m    602\u001b[0m                \u001b[38;5;241m.\u001b[39mformat(col\u001b[38;5;241m.\u001b[39mname, col\u001b[38;5;241m.\u001b[39mdtype),)\n\u001b[0;32m--> 603\u001b[0m     \u001b[38;5;28;01mraise\u001b[39;00m e\n\u001b[1;32m    604\u001b[0m \u001b[38;5;28;01mif\u001b[39;00m \u001b[38;5;129;01mnot\u001b[39;00m field_nullable \u001b[38;5;129;01mand\u001b[39;00m result\u001b[38;5;241m.\u001b[39mnull_count \u001b[38;5;241m>\u001b[39m \u001b[38;5;241m0\u001b[39m:\n\u001b[1;32m    605\u001b[0m     \u001b[38;5;28;01mraise\u001b[39;00m \u001b[38;5;167;01mValueError\u001b[39;00m(\u001b[38;5;124m\"\u001b[39m\u001b[38;5;124mField \u001b[39m\u001b[38;5;132;01m{}\u001b[39;00m\u001b[38;5;124m was non-nullable but pandas column \u001b[39m\u001b[38;5;124m\"\u001b[39m\n\u001b[1;32m    606\u001b[0m                      \u001b[38;5;124m\"\u001b[39m\u001b[38;5;124mhad \u001b[39m\u001b[38;5;132;01m{}\u001b[39;00m\u001b[38;5;124m null values\u001b[39m\u001b[38;5;124m\"\u001b[39m\u001b[38;5;241m.\u001b[39mformat(\u001b[38;5;28mstr\u001b[39m(field),\n\u001b[1;32m    607\u001b[0m                                                  result\u001b[38;5;241m.\u001b[39mnull_count))\n",
      "File \u001b[0;32m~/Documents/hackaton/matching-tovarov-5699/venv/lib/python3.11/site-packages/pyarrow/pandas_compat.py:597\u001b[0m, in \u001b[0;36mdataframe_to_arrays.<locals>.convert_column\u001b[0;34m(col, field)\u001b[0m\n\u001b[1;32m    594\u001b[0m     type_ \u001b[38;5;241m=\u001b[39m field\u001b[38;5;241m.\u001b[39mtype\n\u001b[1;32m    596\u001b[0m \u001b[38;5;28;01mtry\u001b[39;00m:\n\u001b[0;32m--> 597\u001b[0m     result \u001b[38;5;241m=\u001b[39m \u001b[43mpa\u001b[49m\u001b[38;5;241;43m.\u001b[39;49m\u001b[43marray\u001b[49m\u001b[43m(\u001b[49m\u001b[43mcol\u001b[49m\u001b[43m,\u001b[49m\u001b[43m \u001b[49m\u001b[38;5;28;43mtype\u001b[39;49m\u001b[38;5;241;43m=\u001b[39;49m\u001b[43mtype_\u001b[49m\u001b[43m,\u001b[49m\u001b[43m \u001b[49m\u001b[43mfrom_pandas\u001b[49m\u001b[38;5;241;43m=\u001b[39;49m\u001b[38;5;28;43;01mTrue\u001b[39;49;00m\u001b[43m,\u001b[49m\u001b[43m \u001b[49m\u001b[43msafe\u001b[49m\u001b[38;5;241;43m=\u001b[39;49m\u001b[43msafe\u001b[49m\u001b[43m)\u001b[49m\n\u001b[1;32m    598\u001b[0m \u001b[38;5;28;01mexcept\u001b[39;00m (pa\u001b[38;5;241m.\u001b[39mArrowInvalid,\n\u001b[1;32m    599\u001b[0m         pa\u001b[38;5;241m.\u001b[39mArrowNotImplementedError,\n\u001b[1;32m    600\u001b[0m         pa\u001b[38;5;241m.\u001b[39mArrowTypeError) \u001b[38;5;28;01mas\u001b[39;00m e:\n\u001b[1;32m    601\u001b[0m     e\u001b[38;5;241m.\u001b[39margs \u001b[38;5;241m+\u001b[39m\u001b[38;5;241m=\u001b[39m (\u001b[38;5;124m\"\u001b[39m\u001b[38;5;124mConversion failed for column \u001b[39m\u001b[38;5;132;01m{!s}\u001b[39;00m\u001b[38;5;124m with type \u001b[39m\u001b[38;5;132;01m{!s}\u001b[39;00m\u001b[38;5;124m\"\u001b[39m\n\u001b[1;32m    602\u001b[0m                \u001b[38;5;241m.\u001b[39mformat(col\u001b[38;5;241m.\u001b[39mname, col\u001b[38;5;241m.\u001b[39mdtype),)\n",
      "File \u001b[0;32m~/Documents/hackaton/matching-tovarov-5699/venv/lib/python3.11/site-packages/pyarrow/array.pxi:358\u001b[0m, in \u001b[0;36mpyarrow.lib.array\u001b[0;34m()\u001b[0m\n",
      "File \u001b[0;32m~/Documents/hackaton/matching-tovarov-5699/venv/lib/python3.11/site-packages/pyarrow/array.pxi:85\u001b[0m, in \u001b[0;36mpyarrow.lib._ndarray_to_array\u001b[0;34m()\u001b[0m\n",
      "File \u001b[0;32m~/Documents/hackaton/matching-tovarov-5699/venv/lib/python3.11/site-packages/pyarrow/error.pxi:92\u001b[0m, in \u001b[0;36mpyarrow.lib.check_status\u001b[0;34m()\u001b[0m\n",
      "\u001b[0;31mArrowInvalid\u001b[0m: ('Can only convert 1-dimensional array values', 'Conversion failed for column pic_embeddings_resnet_v1 with type object')"
     ]
    }
   ],
   "source": [
    "resnet_df.to_parquet(\"tmp.parquet\")"
   ]
  },
  {
   "cell_type": "code",
   "execution_count": 76,
   "metadata": {},
   "outputs": [
    {
     "name": "stdout",
     "output_type": "stream",
     "text": [
      "<class 'str'>\n"
     ]
    },
    {
     "data": {
      "text/plain": [
       "'[ 0.81700748  0.94166201  0.31087738  1.29069161  0.38992926 -0.723005\\n -0.43469799  0.0249341   0.06744421 -0.90905374 -0.31684792 -0.1510082\\n  0.01458508 -0.65914756 -0.798347    0.36880115 -0.25062746  0.75260913\\n  0.61277926 -0.7682572  -0.62803155 -0.26596719  0.14213678  0.64076149\\n  0.35366869 -0.08126979 -0.14537922  0.29070571 -0.47710425  0.07005052\\n -0.269539    1.16045058  1.0433172  -0.73024642  0.30208886 -0.03294006\\n  0.02066822 -0.74815691 -1.02665091 -0.52724659 -0.11742306 -0.09628111\\n -0.24720843  0.09209616  0.05335683  0.43994004 -0.28201604  0.24969688\\n -0.03403594  0.4259758  -0.3375448  -0.38857502  0.17116094  1.60061312\\n  0.00169183  0.15454616 -0.57250857  0.61529446  0.03151042  0.13528901\\n -0.84221995 -0.14166552 -0.32069501  0.53051698  0.51803738 -0.71477485\\n  0.79601502  0.31952405  0.60017073 -0.18398508  0.10022239  0.12323379\\n  0.29596263  1.0624125   0.31595013 -0.2271311   0.32281807 -0.54868335\\n -0.14845303  0.04438648  0.17827617  0.09673592  0.81144828  0.10146279\\n -0.27719319 -0.20138697  0.87859982  0.00173885  1.19034588  0.01583935\\n  0.05182521 -0.28559503 -0.79891139  0.48855385 -0.7607882   0.24091972\\n  0.12761503  0.07315586 -0.24028306  0.34534183  0.271422   -0.62752533\\n -0.81054831 -0.43625221  0.05795363  0.53391409  0.18049341 -0.53354096\\n  0.25315908  0.39355123  0.351565    0.3096551   0.09001464 -0.16654611\\n -0.2145099   0.31839943  0.76413608 -0.36948779  0.11989031  0.04048833\\n -0.68247873 -0.26810616 -0.41963017  0.02153108 -0.41079021  0.16794622\\n  0.2023011   0.34151298]'"
      ]
     },
     "execution_count": 76,
     "metadata": {},
     "output_type": "execute_result"
    }
   ],
   "source": [
    "_read = pd.read_csv(\"tmp.csv\")\n",
    "print(type(_read[\"main_pic_embeddings_resnet_v1\"].iloc[0]))\n",
    "_read[\"main_pic_embeddings_resnet_v1\"].iloc[0]"
   ]
  },
  {
   "cell_type": "code",
   "execution_count": 63,
   "metadata": {},
   "outputs": [
    {
     "data": {
      "text/plain": [
       "0       (4, 128)\n",
       "1           None\n",
       "2           None\n",
       "3           None\n",
       "4       (1, 128)\n",
       "         ...    \n",
       "995     (3, 128)\n",
       "996     (4, 128)\n",
       "997     (1, 128)\n",
       "998    (10, 128)\n",
       "999    (12, 128)\n",
       "Name: pic_embeddings_resnet_v1, Length: 1000, dtype: object"
      ]
     },
     "execution_count": 63,
     "metadata": {},
     "output_type": "execute_result"
    }
   ],
   "source": [
    "resnet_df.pic_embeddings_resnet_v1.apply(lambda x: x if x is None else np.array(list(x)))"
   ]
  },
  {
   "cell_type": "code",
   "execution_count": 52,
   "metadata": {},
   "outputs": [
    {
     "data": {
      "text/plain": [
       "0      [0.8170074820518494, 0.9416620135307312, 0.310...\n",
       "1      [-0.43339717388153076, -0.17318281531333923, -...\n",
       "2      [0.11314830183982849, -0.34010639786720276, -0...\n",
       "3      [0.25037717819213867, 0.33753663301467896, 0.2...\n",
       "4      [0.43453288078308105, 0.09419603645801544, -0....\n",
       "                             ...                        \n",
       "995    [-0.20631232857704163, 0.06580600142478943, 0....\n",
       "996    [0.16988249123096466, -0.4923829436302185, 1.4...\n",
       "997    [-0.6392371654510498, 0.827077329158783, 0.724...\n",
       "998    [-0.9934021830558777, -0.30172640085220337, -0...\n",
       "999    [0.5831665396690369, -0.805409848690033, -0.14...\n",
       "Name: main_pic_embeddings_resnet_v1, Length: 1000, dtype: object"
      ]
     },
     "execution_count": 52,
     "metadata": {},
     "output_type": "execute_result"
    }
   ],
   "source": [
    "resnet_df.main_pic_embeddings_resnet_v1.apply(lambda x: x[0])"
   ]
  },
  {
   "cell_type": "code",
   "execution_count": 42,
   "metadata": {},
   "outputs": [
    {
     "name": "stderr",
     "output_type": "stream",
     "text": [
      "/tmp/ipykernel_44609/3435967803.py:18: SettingWithCopyWarning: \n",
      "A value is trying to be set on a copy of a slice from a DataFrame.\n",
      "Try using .loc[row_indexer,col_indexer] = value instead\n",
      "\n",
      "See the caveats in the documentation: https://pandas.pydata.org/pandas-docs/stable/user_guide/indexing.html#returning-a-view-versus-a-copy\n",
      "  batch_df.main_pic_embeddings_resnet_v1 = batch_df.main_pic_embeddings_resnet_v1.apply(clean_main_pic)\n",
      "/tmp/ipykernel_44609/3435967803.py:19: SettingWithCopyWarning: \n",
      "A value is trying to be set on a copy of a slice from a DataFrame.\n",
      "Try using .loc[row_indexer,col_indexer] = value instead\n",
      "\n",
      "See the caveats in the documentation: https://pandas.pydata.org/pandas-docs/stable/user_guide/indexing.html#returning-a-view-versus-a-copy\n",
      "  batch_df.pic_embeddings_resnet_v1 = batch_df.pic_embeddings_resnet_v1.apply(clean_add_pics)\n"
     ]
    }
   ],
   "source": [
    "from ast import literal_eval\n",
    "\n",
    "\n",
    "def clean_main_pic(x: str):\n",
    "    _str = x[1:-1].strip().removeprefix(\"array(\")[0:-1].replace(\"\\n\", \"\")\n",
    "    return np.array(literal_eval(_str))\n",
    "\n",
    "def clean_add_pics(x):\n",
    "    if x is np.nan:\n",
    "        return x\n",
    "    _tstr = x.replace(\"array\", \",\").replace(\"(\", \"[\").replace(\")\", \"]\").replace(\"\\n\", \"\")\n",
    "    _tstr = _tstr[:1] + _tstr[2:]\n",
    "    emb = np.array(eval(_tstr)).squeeze(1)\n",
    "    return emb\n",
    "\n",
    "def clean_resnet(batch_df):\n",
    "    batch_df = batch_df[batch_df.variantid != \"variantid\"]\n",
    "    batch_df.main_pic_embeddings_resnet_v1 = batch_df.main_pic_embeddings_resnet_v1.apply(clean_main_pic)\n",
    "    batch_df.pic_embeddings_resnet_v1 = batch_df.pic_embeddings_resnet_v1.apply(clean_add_pics)\n",
    "    return batch_df\n",
    "\n",
    "cleaned_1 = clean_resnet(batch1_resnet)"
   ]
  },
  {
   "cell_type": "code",
   "execution_count": 46,
   "metadata": {},
   "outputs": [
    {
     "data": {
      "text/plain": [
       "(4, 128)"
      ]
     },
     "execution_count": 46,
     "metadata": {},
     "output_type": "execute_result"
    }
   ],
   "source": [
    "cleaned_1.pic_embeddings_resnet_v1.iloc[3].shape"
   ]
  },
  {
   "cell_type": "code",
   "execution_count": 48,
   "metadata": {},
   "outputs": [],
   "source": [
    "import pickle\n",
    "\n",
    "with open(\"tmp.pkl\", \"wb\") as f:\n",
    "    pickle.dump(cleaned_1, f)"
   ]
  },
  {
   "cell_type": "code",
   "execution_count": 49,
   "metadata": {},
   "outputs": [],
   "source": [
    "with open(\"tmp.pkl\", \"rb\") as f:\n",
    "    _read = pickle.load(f)"
   ]
  },
  {
   "cell_type": "code",
   "execution_count": 51,
   "metadata": {},
   "outputs": [
    {
     "data": {
      "text/plain": [
       "(4, 128)"
      ]
     },
     "execution_count": 51,
     "metadata": {},
     "output_type": "execute_result"
    }
   ],
   "source": [
    "_read.pic_embeddings_resnet_v1.iloc[3].shape"
   ]
  },
  {
   "cell_type": "code",
   "execution_count": 40,
   "metadata": {},
   "outputs": [
    {
     "data": {
      "text/plain": [
       "array([nan], dtype=object)"
      ]
     },
     "execution_count": 40,
     "metadata": {},
     "output_type": "execute_result"
    }
   ],
   "source": [
    "batch1_resnet.pic_embeddings_resnet_v1[batch1_resnet.pic_embeddings_resnet_v1.apply(type) != type(\"\")].unique()"
   ]
  },
  {
   "cell_type": "code",
   "execution_count": 41,
   "metadata": {},
   "outputs": [
    {
     "data": {
      "text/plain": [
       "nan"
      ]
     },
     "execution_count": 41,
     "metadata": {},
     "output_type": "execute_result"
    }
   ],
   "source": [
    "np.nan"
   ]
  },
  {
   "cell_type": "code",
   "execution_count": 29,
   "metadata": {},
   "outputs": [
    {
     "name": "stdout",
     "output_type": "stream",
     "text": [
      "[[[ 0.72336626, -0.2438103 ,  1.32650912, -0.47631398, -0.23033246,         0.85245502,  0.39826781, -0.37804851,  0.59381366, -1.02751136,        -0.18322   ,  0.61391175, -1.24487388,  0.00734213, -0.49679351,         0.41309762, -0.62500429, -0.07909724,  0.91681427,  0.05576561,         0.38866761, -0.92934537, -0.65341324,  0.62063193, -1.25679243,        -0.96559113, -0.25261831, -0.27605921,  0.61374307, -0.79168743,         0.02503854, -0.25834841, -0.0186023 ,  0.28430271, -0.03397731,         0.38103628, -0.6559248 ,  0.65509826, -0.15804853, -0.83794117,         0.50792456, -1.16443789,  0.56520641, -0.86249918, -0.5189327 ,        -0.15413827,  0.06732981, -1.02779579, -1.72894001, -0.24184427,        -0.06315546,  0.14154917,  1.21028697,  0.83841002,  0.02727519,        -0.44512507,  0.25308761, -0.4519982 ,  1.04610825, -0.31136921,        -0.24883553, -0.34569079, -0.28631353,  0.36780906,  0.74090713,        -0.29244828,  0.22872014,  0.86616802,  0.32672712, -0.85221153,         0.35914755,  1.20780873,  1.35035062, -0.46163893, -0.41085696,        -0.88964784, -0.07274997, -0.76900971, -0.15032718, -1.14299726,        -0.03036845,  0.94028062, -0.37507141, -0.65909696, -0.16738239,         1.78417516,  1.27205002,  0.62720561, -0.30428168,  0.33781528,         0.02430913, -0.52236444,  0.5013603 ,  0.57703757,  0.60524535,        -0.09670176,  0.87663722,  0.43210381,  0.09348269,  1.4121244 ,        -1.53329229,  0.23477253, -0.21258059,  0.16102806, -0.54122591,         1.60069275,  0.27617523,  0.34821016,  0.56439823, -0.21958236,         0.88941324,  0.43473327, -0.36135727,  0.02009779, -1.11006558,        -1.22293663,  0.18092664,  0.54742056, -0.67161351, -0.43346739,         0.00958192,  1.2065798 , -0.04793116, -0.46197116, -0.9793582 ,         0.84209543,  0.60631138,  0.19992086]] ,[[ 0.35067761,  0.79277444,  0.65907609, -0.06980668, -0.10826999,        -0.39222273, -0.37225798, -0.02333777, -0.18717897,  0.12723449,        -0.36804381,  1.07892084, -0.95021248,  0.41216791, -0.4570905 ,        -0.28353044, -0.24754247, -0.36587965,  0.57678705,  1.84621036,         0.61333156, -0.06590806, -0.31600752,  0.27567661,  0.29819885,         0.28409022, -0.19122361, -1.42985594,  1.49194896, -0.45104635,        -0.92457765, -0.27139899, -0.38852483,  1.73177993, -0.08173101,        -0.78474212, -1.11580002, -0.05743022, -0.12126044,  0.11639577,         0.23420247, -0.05449864,  0.46104801, -0.64078617, -0.26470447,        -0.49901801, -0.79519069, -0.45057648, -0.74376965, -0.22523019,         0.08525322,  0.27463081,  0.22181952,  0.65764421,  0.47822621,        -0.38100076,  0.04665233, -0.68735188,  0.00689635,  0.34387821,         0.00500411, -0.21064696, -0.20454001, -0.30525005,  0.95960808,         0.6726408 ,  0.42832279,  0.76666683,  1.17636251, -0.38034657,         0.42104563, -0.74754953, -0.81513125, -0.8705557 ,  0.68980074,         0.10241842,  0.01960976,  0.1236751 , -0.39595681, -0.15623984,        -0.46371675,  0.57102382, -0.38819748, -0.61038077,  0.86040843,         0.12938255,  0.04457232,  0.91331112,  0.75366664,  0.6451124 ,         0.34218767,  0.26171187, -0.29216778,  0.58084488,  0.96111614,        -0.48801312, -0.7654705 , -0.32055083, -0.82927728,  0.65072793,         1.18578196, -0.40816686,  0.6158222 ,  0.47022265, -1.66787004,         0.41068855,  0.2240843 , -0.48885635,  0.11890322, -0.32005075,        -0.22843108,  0.18052022, -0.28782079, -0.55802816, -0.4923763 ,        -0.40929019,  0.51194608,  1.04690671, -1.49897218, -1.3249495 ,         0.16537763, -0.36479136,  0.65991682, -0.06646425,  1.24232364,         0.08626094, -0.02566748,  0.36284447]]                         ]\n"
     ]
    },
    {
     "data": {
      "text/plain": [
       "array([[ 0.72336626, -0.2438103 ,  1.32650912, -0.47631398, -0.23033246,\n",
       "         0.85245502,  0.39826781, -0.37804851,  0.59381366, -1.02751136,\n",
       "        -0.18322   ,  0.61391175, -1.24487388,  0.00734213, -0.49679351,\n",
       "         0.41309762, -0.62500429, -0.07909724,  0.91681427,  0.05576561,\n",
       "         0.38866761, -0.92934537, -0.65341324,  0.62063193, -1.25679243,\n",
       "        -0.96559113, -0.25261831, -0.27605921,  0.61374307, -0.79168743,\n",
       "         0.02503854, -0.25834841, -0.0186023 ,  0.28430271, -0.03397731,\n",
       "         0.38103628, -0.6559248 ,  0.65509826, -0.15804853, -0.83794117,\n",
       "         0.50792456, -1.16443789,  0.56520641, -0.86249918, -0.5189327 ,\n",
       "        -0.15413827,  0.06732981, -1.02779579, -1.72894001, -0.24184427,\n",
       "        -0.06315546,  0.14154917,  1.21028697,  0.83841002,  0.02727519,\n",
       "        -0.44512507,  0.25308761, -0.4519982 ,  1.04610825, -0.31136921,\n",
       "        -0.24883553, -0.34569079, -0.28631353,  0.36780906,  0.74090713,\n",
       "        -0.29244828,  0.22872014,  0.86616802,  0.32672712, -0.85221153,\n",
       "         0.35914755,  1.20780873,  1.35035062, -0.46163893, -0.41085696,\n",
       "        -0.88964784, -0.07274997, -0.76900971, -0.15032718, -1.14299726,\n",
       "        -0.03036845,  0.94028062, -0.37507141, -0.65909696, -0.16738239,\n",
       "         1.78417516,  1.27205002,  0.62720561, -0.30428168,  0.33781528,\n",
       "         0.02430913, -0.52236444,  0.5013603 ,  0.57703757,  0.60524535,\n",
       "        -0.09670176,  0.87663722,  0.43210381,  0.09348269,  1.4121244 ,\n",
       "        -1.53329229,  0.23477253, -0.21258059,  0.16102806, -0.54122591,\n",
       "         1.60069275,  0.27617523,  0.34821016,  0.56439823, -0.21958236,\n",
       "         0.88941324,  0.43473327, -0.36135727,  0.02009779, -1.11006558,\n",
       "        -1.22293663,  0.18092664,  0.54742056, -0.67161351, -0.43346739,\n",
       "         0.00958192,  1.2065798 , -0.04793116, -0.46197116, -0.9793582 ,\n",
       "         0.84209543,  0.60631138,  0.19992086],\n",
       "       [ 0.35067761,  0.79277444,  0.65907609, -0.06980668, -0.10826999,\n",
       "        -0.39222273, -0.37225798, -0.02333777, -0.18717897,  0.12723449,\n",
       "        -0.36804381,  1.07892084, -0.95021248,  0.41216791, -0.4570905 ,\n",
       "        -0.28353044, -0.24754247, -0.36587965,  0.57678705,  1.84621036,\n",
       "         0.61333156, -0.06590806, -0.31600752,  0.27567661,  0.29819885,\n",
       "         0.28409022, -0.19122361, -1.42985594,  1.49194896, -0.45104635,\n",
       "        -0.92457765, -0.27139899, -0.38852483,  1.73177993, -0.08173101,\n",
       "        -0.78474212, -1.11580002, -0.05743022, -0.12126044,  0.11639577,\n",
       "         0.23420247, -0.05449864,  0.46104801, -0.64078617, -0.26470447,\n",
       "        -0.49901801, -0.79519069, -0.45057648, -0.74376965, -0.22523019,\n",
       "         0.08525322,  0.27463081,  0.22181952,  0.65764421,  0.47822621,\n",
       "        -0.38100076,  0.04665233, -0.68735188,  0.00689635,  0.34387821,\n",
       "         0.00500411, -0.21064696, -0.20454001, -0.30525005,  0.95960808,\n",
       "         0.6726408 ,  0.42832279,  0.76666683,  1.17636251, -0.38034657,\n",
       "         0.42104563, -0.74754953, -0.81513125, -0.8705557 ,  0.68980074,\n",
       "         0.10241842,  0.01960976,  0.1236751 , -0.39595681, -0.15623984,\n",
       "        -0.46371675,  0.57102382, -0.38819748, -0.61038077,  0.86040843,\n",
       "         0.12938255,  0.04457232,  0.91331112,  0.75366664,  0.6451124 ,\n",
       "         0.34218767,  0.26171187, -0.29216778,  0.58084488,  0.96111614,\n",
       "        -0.48801312, -0.7654705 , -0.32055083, -0.82927728,  0.65072793,\n",
       "         1.18578196, -0.40816686,  0.6158222 ,  0.47022265, -1.66787004,\n",
       "         0.41068855,  0.2240843 , -0.48885635,  0.11890322, -0.32005075,\n",
       "        -0.22843108,  0.18052022, -0.28782079, -0.55802816, -0.4923763 ,\n",
       "        -0.40929019,  0.51194608,  1.04690671, -1.49897218, -1.3249495 ,\n",
       "         0.16537763, -0.36479136,  0.65991682, -0.06646425,  1.24232364,\n",
       "         0.08626094, -0.02566748,  0.36284447]])"
      ]
     },
     "execution_count": 29,
     "metadata": {},
     "output_type": "execute_result"
    }
   ],
   "source": [
    "_tstr = batch1_resnet.pic_embeddings_resnet_v1.iloc[2].replace(\"array\", \",\").replace(\"(\", \"[\").replace(\")\", \"]\").replace(\"\\n\", \"\")\n",
    "_tstr = _tstr[:1] + _tstr[2:]\n",
    "print(_tstr)\n",
    "emb = np.array(eval(_tstr)).squeeze(1)\n",
    "emb"
   ]
  },
  {
   "cell_type": "code",
   "execution_count": 2,
   "metadata": {},
   "outputs": [],
   "source": [
    "import pyarrow.parquet as pq\n",
    "\n",
    "resnet_pq = pq.ParquetFile(\"/home/konstfed/Documents/hackaton/matching-tovarov-5699/data/train/resnet.parquet\")\n",
    "\n",
    "for resnet_batch in resnet_pq.iter_batches(batch_size=1000):\n",
    "    resnet_df = resnet_batch.to_pandas()\n",
    "    break"
   ]
  },
  {
   "cell_type": "code",
   "execution_count": 10,
   "metadata": {},
   "outputs": [
    {
     "data": {
      "text/plain": [
       "pyarrow.lib.RecordBatch"
      ]
     },
     "execution_count": 10,
     "metadata": {},
     "output_type": "execute_result"
    }
   ],
   "source": [
    "type(resnet_batch)"
   ]
  },
  {
   "cell_type": "code",
   "execution_count": 14,
   "metadata": {},
   "outputs": [],
   "source": [
    "import pyarrow as pa"
   ]
  },
  {
   "cell_type": "code",
   "execution_count": 25,
   "metadata": {},
   "outputs": [],
   "source": [
    "train5 = pd.read_parquet(\"../data/train_batched/batch5.parquet\").iloc[:500]"
   ]
  },
  {
   "cell_type": "code",
   "execution_count": 26,
   "metadata": {},
   "outputs": [
    {
     "data": {
      "text/plain": [
       "(1000,)"
      ]
     },
     "execution_count": 26,
     "metadata": {},
     "output_type": "execute_result"
    }
   ],
   "source": [
    "unique_ids = np.unique(np.concatenate([train5[\"variantid1\"], train5[\"variantid2\"]]))\n",
    "unique_ids.shape"
   ]
  },
  {
   "cell_type": "code",
   "execution_count": 30,
   "metadata": {},
   "outputs": [],
   "source": [
    "resnet_df.variantid = unique_ids"
   ]
  },
  {
   "cell_type": "code",
   "execution_count": 31,
   "metadata": {},
   "outputs": [
    {
     "data": {
      "text/html": [
       "<div>\n",
       "<style scoped>\n",
       "    .dataframe tbody tr th:only-of-type {\n",
       "        vertical-align: middle;\n",
       "    }\n",
       "\n",
       "    .dataframe tbody tr th {\n",
       "        vertical-align: top;\n",
       "    }\n",
       "\n",
       "    .dataframe thead th {\n",
       "        text-align: right;\n",
       "    }\n",
       "</style>\n",
       "<table border=\"1\" class=\"dataframe\">\n",
       "  <thead>\n",
       "    <tr style=\"text-align: right;\">\n",
       "      <th></th>\n",
       "      <th>variantid</th>\n",
       "      <th>main_pic_embeddings_resnet_v1</th>\n",
       "      <th>pic_embeddings_resnet_v1</th>\n",
       "    </tr>\n",
       "  </thead>\n",
       "  <tbody>\n",
       "    <tr>\n",
       "      <th>0</th>\n",
       "      <td>49946929</td>\n",
       "      <td>[[0.8170074820518494, 0.9416620135307312, 0.31...</td>\n",
       "      <td>[[0.20931944251060486, -0.29257065057754517, -...</td>\n",
       "    </tr>\n",
       "    <tr>\n",
       "      <th>1</th>\n",
       "      <td>50220955</td>\n",
       "      <td>[[-0.43339717388153076, -0.17318281531333923, ...</td>\n",
       "      <td>None</td>\n",
       "    </tr>\n",
       "    <tr>\n",
       "      <th>2</th>\n",
       "      <td>52913008</td>\n",
       "      <td>[[0.11314830183982849, -0.34010639786720276, -...</td>\n",
       "      <td>None</td>\n",
       "    </tr>\n",
       "    <tr>\n",
       "      <th>3</th>\n",
       "      <td>52913375</td>\n",
       "      <td>[[0.25037717819213867, 0.33753663301467896, 0....</td>\n",
       "      <td>None</td>\n",
       "    </tr>\n",
       "    <tr>\n",
       "      <th>4</th>\n",
       "      <td>53683475</td>\n",
       "      <td>[[0.43453288078308105, 0.09419603645801544, -0...</td>\n",
       "      <td>[[-0.18672508001327515, -0.2851635217666626, -...</td>\n",
       "    </tr>\n",
       "    <tr>\n",
       "      <th>...</th>\n",
       "      <td>...</td>\n",
       "      <td>...</td>\n",
       "      <td>...</td>\n",
       "    </tr>\n",
       "    <tr>\n",
       "      <th>995</th>\n",
       "      <td>1561775928</td>\n",
       "      <td>[[-0.20631232857704163, 0.06580600142478943, 0...</td>\n",
       "      <td>[[-0.03329319506883621, -0.1395496129989624, 0...</td>\n",
       "    </tr>\n",
       "    <tr>\n",
       "      <th>996</th>\n",
       "      <td>1561933235</td>\n",
       "      <td>[[0.16988249123096466, -0.4923829436302185, 1....</td>\n",
       "      <td>[[-0.11524864286184311, -0.166884183883667, 0....</td>\n",
       "    </tr>\n",
       "    <tr>\n",
       "      <th>997</th>\n",
       "      <td>1562100173</td>\n",
       "      <td>[[-0.6392371654510498, 0.827077329158783, 0.72...</td>\n",
       "      <td>[[-0.5296839475631714, 0.809177577495575, 0.44...</td>\n",
       "    </tr>\n",
       "    <tr>\n",
       "      <th>998</th>\n",
       "      <td>1564223965</td>\n",
       "      <td>[[-0.9934021830558777, -0.30172640085220337, -...</td>\n",
       "      <td>[[-0.23530462384223938, -0.12177957594394684, ...</td>\n",
       "    </tr>\n",
       "    <tr>\n",
       "      <th>999</th>\n",
       "      <td>1564321942</td>\n",
       "      <td>[[0.5831665396690369, -0.805409848690033, -0.1...</td>\n",
       "      <td>[[-0.40871888399124146, -0.008702978491783142,...</td>\n",
       "    </tr>\n",
       "  </tbody>\n",
       "</table>\n",
       "<p>1000 rows × 3 columns</p>\n",
       "</div>"
      ],
      "text/plain": [
       "      variantid                      main_pic_embeddings_resnet_v1  \\\n",
       "0      49946929  [[0.8170074820518494, 0.9416620135307312, 0.31...   \n",
       "1      50220955  [[-0.43339717388153076, -0.17318281531333923, ...   \n",
       "2      52913008  [[0.11314830183982849, -0.34010639786720276, -...   \n",
       "3      52913375  [[0.25037717819213867, 0.33753663301467896, 0....   \n",
       "4      53683475  [[0.43453288078308105, 0.09419603645801544, -0...   \n",
       "..          ...                                                ...   \n",
       "995  1561775928  [[-0.20631232857704163, 0.06580600142478943, 0...   \n",
       "996  1561933235  [[0.16988249123096466, -0.4923829436302185, 1....   \n",
       "997  1562100173  [[-0.6392371654510498, 0.827077329158783, 0.72...   \n",
       "998  1564223965  [[-0.9934021830558777, -0.30172640085220337, -...   \n",
       "999  1564321942  [[0.5831665396690369, -0.805409848690033, -0.1...   \n",
       "\n",
       "                              pic_embeddings_resnet_v1  \n",
       "0    [[0.20931944251060486, -0.29257065057754517, -...  \n",
       "1                                                 None  \n",
       "2                                                 None  \n",
       "3                                                 None  \n",
       "4    [[-0.18672508001327515, -0.2851635217666626, -...  \n",
       "..                                                 ...  \n",
       "995  [[-0.03329319506883621, -0.1395496129989624, 0...  \n",
       "996  [[-0.11524864286184311, -0.166884183883667, 0....  \n",
       "997  [[-0.5296839475631714, 0.809177577495575, 0.44...  \n",
       "998  [[-0.23530462384223938, -0.12177957594394684, ...  \n",
       "999  [[-0.40871888399124146, -0.008702978491783142,...  \n",
       "\n",
       "[1000 rows x 3 columns]"
      ]
     },
     "execution_count": 31,
     "metadata": {},
     "output_type": "execute_result"
    }
   ],
   "source": [
    "resnet_df"
   ]
  },
  {
   "cell_type": "code",
   "execution_count": 15,
   "metadata": {},
   "outputs": [],
   "source": [
    "pq.write_table(pa.Table.from_batches([resnet_batch]), \"tmp.parquet\")"
   ]
  },
  {
   "cell_type": "code",
   "execution_count": 6,
   "metadata": {},
   "outputs": [
    {
     "data": {
      "text/html": [
       "<div>\n",
       "<style scoped>\n",
       "    .dataframe tbody tr th:only-of-type {\n",
       "        vertical-align: middle;\n",
       "    }\n",
       "\n",
       "    .dataframe tbody tr th {\n",
       "        vertical-align: top;\n",
       "    }\n",
       "\n",
       "    .dataframe thead th {\n",
       "        text-align: right;\n",
       "    }\n",
       "</style>\n",
       "<table border=\"1\" class=\"dataframe\">\n",
       "  <thead>\n",
       "    <tr style=\"text-align: right;\">\n",
       "      <th></th>\n",
       "      <th>target</th>\n",
       "      <th>feature_0</th>\n",
       "      <th>feature_1</th>\n",
       "      <th>feature_2</th>\n",
       "      <th>feature_3</th>\n",
       "      <th>feature_4</th>\n",
       "      <th>feature_5</th>\n",
       "      <th>feature_6</th>\n",
       "      <th>feature_7</th>\n",
       "      <th>feature_8</th>\n",
       "      <th>...</th>\n",
       "      <th>feature_2729</th>\n",
       "      <th>feature_2730</th>\n",
       "      <th>feature_2731</th>\n",
       "      <th>feature_2732</th>\n",
       "      <th>feature_2733</th>\n",
       "      <th>feature_2734</th>\n",
       "      <th>feature_2735</th>\n",
       "      <th>feature_2736</th>\n",
       "      <th>feature_2737</th>\n",
       "      <th>feature_2738</th>\n",
       "    </tr>\n",
       "  </thead>\n",
       "  <tbody>\n",
       "    <tr>\n",
       "      <th>0</th>\n",
       "      <td>1</td>\n",
       "      <td>-0.005132</td>\n",
       "      <td>-0.00462</td>\n",
       "      <td>-0.056670</td>\n",
       "      <td>-0.041402</td>\n",
       "      <td>-0.04498</td>\n",
       "      <td>-0.02581</td>\n",
       "      <td>-0.020921</td>\n",
       "      <td>-0.023426</td>\n",
       "      <td>-0.07001</td>\n",
       "      <td>...</td>\n",
       "      <td>0.0</td>\n",
       "      <td>0.0</td>\n",
       "      <td>1.00</td>\n",
       "      <td>1.000000</td>\n",
       "      <td>1.000000</td>\n",
       "      <td>1.000000</td>\n",
       "      <td>1.000000</td>\n",
       "      <td>0.996979</td>\n",
       "      <td>1.000000</td>\n",
       "      <td>1.000000</td>\n",
       "    </tr>\n",
       "    <tr>\n",
       "      <th>1</th>\n",
       "      <td>0</td>\n",
       "      <td>-0.005132</td>\n",
       "      <td>-0.00462</td>\n",
       "      <td>-0.056670</td>\n",
       "      <td>-0.041402</td>\n",
       "      <td>-0.04498</td>\n",
       "      <td>-0.02581</td>\n",
       "      <td>-0.020921</td>\n",
       "      <td>-0.023426</td>\n",
       "      <td>-0.07001</td>\n",
       "      <td>...</td>\n",
       "      <td>0.0</td>\n",
       "      <td>0.0</td>\n",
       "      <td>1.00</td>\n",
       "      <td>0.538462</td>\n",
       "      <td>0.714286</td>\n",
       "      <td>0.932223</td>\n",
       "      <td>0.984855</td>\n",
       "      <td>0.650333</td>\n",
       "      <td>0.813846</td>\n",
       "      <td>0.827548</td>\n",
       "    </tr>\n",
       "    <tr>\n",
       "      <th>2</th>\n",
       "      <td>0</td>\n",
       "      <td>-0.005132</td>\n",
       "      <td>-0.00462</td>\n",
       "      <td>-0.056670</td>\n",
       "      <td>-0.041402</td>\n",
       "      <td>-0.04498</td>\n",
       "      <td>-0.02581</td>\n",
       "      <td>-0.020921</td>\n",
       "      <td>-0.023426</td>\n",
       "      <td>-0.07001</td>\n",
       "      <td>...</td>\n",
       "      <td>0.0</td>\n",
       "      <td>0.0</td>\n",
       "      <td>0.75</td>\n",
       "      <td>0.384615</td>\n",
       "      <td>0.400000</td>\n",
       "      <td>0.912123</td>\n",
       "      <td>0.912123</td>\n",
       "      <td>0.714803</td>\n",
       "      <td>0.522542</td>\n",
       "      <td>0.677062</td>\n",
       "    </tr>\n",
       "    <tr>\n",
       "      <th>3</th>\n",
       "      <td>0</td>\n",
       "      <td>-0.005132</td>\n",
       "      <td>-0.00462</td>\n",
       "      <td>-0.056670</td>\n",
       "      <td>-0.041402</td>\n",
       "      <td>-0.04498</td>\n",
       "      <td>-0.02581</td>\n",
       "      <td>-0.020921</td>\n",
       "      <td>-0.023426</td>\n",
       "      <td>-0.07001</td>\n",
       "      <td>...</td>\n",
       "      <td>0.0</td>\n",
       "      <td>0.0</td>\n",
       "      <td>1.00</td>\n",
       "      <td>0.307692</td>\n",
       "      <td>0.500000</td>\n",
       "      <td>0.937697</td>\n",
       "      <td>0.299730</td>\n",
       "      <td>0.363050</td>\n",
       "      <td>0.926552</td>\n",
       "      <td>0.532055</td>\n",
       "    </tr>\n",
       "    <tr>\n",
       "      <th>4</th>\n",
       "      <td>1</td>\n",
       "      <td>-0.005132</td>\n",
       "      <td>-0.00462</td>\n",
       "      <td>-0.056670</td>\n",
       "      <td>-0.041402</td>\n",
       "      <td>-0.04498</td>\n",
       "      <td>-0.02581</td>\n",
       "      <td>-0.020921</td>\n",
       "      <td>-0.023426</td>\n",
       "      <td>-0.07001</td>\n",
       "      <td>...</td>\n",
       "      <td>0.0</td>\n",
       "      <td>0.0</td>\n",
       "      <td>1.00</td>\n",
       "      <td>0.960000</td>\n",
       "      <td>1.000000</td>\n",
       "      <td>1.000000</td>\n",
       "      <td>1.000000</td>\n",
       "      <td>1.000000</td>\n",
       "      <td>1.000000</td>\n",
       "      <td>0.866629</td>\n",
       "    </tr>\n",
       "    <tr>\n",
       "      <th>...</th>\n",
       "      <td>...</td>\n",
       "      <td>...</td>\n",
       "      <td>...</td>\n",
       "      <td>...</td>\n",
       "      <td>...</td>\n",
       "      <td>...</td>\n",
       "      <td>...</td>\n",
       "      <td>...</td>\n",
       "      <td>...</td>\n",
       "      <td>...</td>\n",
       "      <td>...</td>\n",
       "      <td>...</td>\n",
       "      <td>...</td>\n",
       "      <td>...</td>\n",
       "      <td>...</td>\n",
       "      <td>...</td>\n",
       "      <td>...</td>\n",
       "      <td>...</td>\n",
       "      <td>...</td>\n",
       "      <td>...</td>\n",
       "      <td>...</td>\n",
       "    </tr>\n",
       "    <tr>\n",
       "      <th>186958</th>\n",
       "      <td>0</td>\n",
       "      <td>-0.005132</td>\n",
       "      <td>-0.00462</td>\n",
       "      <td>-0.056670</td>\n",
       "      <td>-0.041402</td>\n",
       "      <td>-0.04498</td>\n",
       "      <td>-0.02581</td>\n",
       "      <td>-0.020921</td>\n",
       "      <td>-0.023426</td>\n",
       "      <td>-0.07001</td>\n",
       "      <td>...</td>\n",
       "      <td>0.0</td>\n",
       "      <td>0.0</td>\n",
       "      <td>1.00</td>\n",
       "      <td>1.000000</td>\n",
       "      <td>0.857143</td>\n",
       "      <td>1.000000</td>\n",
       "      <td>1.000000</td>\n",
       "      <td>0.973684</td>\n",
       "      <td>1.000000</td>\n",
       "      <td>0.985662</td>\n",
       "    </tr>\n",
       "    <tr>\n",
       "      <th>186959</th>\n",
       "      <td>0</td>\n",
       "      <td>-0.005132</td>\n",
       "      <td>-0.00462</td>\n",
       "      <td>-0.056670</td>\n",
       "      <td>-0.041402</td>\n",
       "      <td>-0.04498</td>\n",
       "      <td>-0.02581</td>\n",
       "      <td>-0.020921</td>\n",
       "      <td>-0.023426</td>\n",
       "      <td>-0.07001</td>\n",
       "      <td>...</td>\n",
       "      <td>0.0</td>\n",
       "      <td>0.0</td>\n",
       "      <td>1.00</td>\n",
       "      <td>0.935484</td>\n",
       "      <td>0.896552</td>\n",
       "      <td>0.937372</td>\n",
       "      <td>1.000000</td>\n",
       "      <td>1.000000</td>\n",
       "      <td>1.000000</td>\n",
       "      <td>0.968997</td>\n",
       "    </tr>\n",
       "    <tr>\n",
       "      <th>186960</th>\n",
       "      <td>0</td>\n",
       "      <td>-0.005132</td>\n",
       "      <td>-0.00462</td>\n",
       "      <td>-0.056670</td>\n",
       "      <td>-0.041402</td>\n",
       "      <td>-0.04498</td>\n",
       "      <td>-0.02581</td>\n",
       "      <td>-0.020921</td>\n",
       "      <td>-0.023426</td>\n",
       "      <td>-0.07001</td>\n",
       "      <td>...</td>\n",
       "      <td>0.0</td>\n",
       "      <td>0.0</td>\n",
       "      <td>1.00</td>\n",
       "      <td>0.636364</td>\n",
       "      <td>0.571429</td>\n",
       "      <td>0.733658</td>\n",
       "      <td>0.733658</td>\n",
       "      <td>0.657189</td>\n",
       "      <td>0.625237</td>\n",
       "      <td>0.646001</td>\n",
       "    </tr>\n",
       "    <tr>\n",
       "      <th>186961</th>\n",
       "      <td>1</td>\n",
       "      <td>-0.005132</td>\n",
       "      <td>-0.00462</td>\n",
       "      <td>-0.056670</td>\n",
       "      <td>-0.041402</td>\n",
       "      <td>-0.04498</td>\n",
       "      <td>-0.02581</td>\n",
       "      <td>-0.020921</td>\n",
       "      <td>-0.023426</td>\n",
       "      <td>-0.07001</td>\n",
       "      <td>...</td>\n",
       "      <td>0.0</td>\n",
       "      <td>0.0</td>\n",
       "      <td>1.00</td>\n",
       "      <td>0.538462</td>\n",
       "      <td>0.571429</td>\n",
       "      <td>0.999983</td>\n",
       "      <td>0.999980</td>\n",
       "      <td>1.000000</td>\n",
       "      <td>0.816328</td>\n",
       "      <td>0.675350</td>\n",
       "    </tr>\n",
       "    <tr>\n",
       "      <th>186962</th>\n",
       "      <td>0</td>\n",
       "      <td>-0.005132</td>\n",
       "      <td>-0.00462</td>\n",
       "      <td>0.293236</td>\n",
       "      <td>-0.041402</td>\n",
       "      <td>-0.04498</td>\n",
       "      <td>-0.02581</td>\n",
       "      <td>-0.020921</td>\n",
       "      <td>-0.023426</td>\n",
       "      <td>-0.07001</td>\n",
       "      <td>...</td>\n",
       "      <td>0.0</td>\n",
       "      <td>0.0</td>\n",
       "      <td>1.00</td>\n",
       "      <td>0.833333</td>\n",
       "      <td>0.500000</td>\n",
       "      <td>0.825800</td>\n",
       "      <td>0.825800</td>\n",
       "      <td>0.875309</td>\n",
       "      <td>0.506383</td>\n",
       "      <td>0.913063</td>\n",
       "    </tr>\n",
       "  </tbody>\n",
       "</table>\n",
       "<p>186963 rows × 2740 columns</p>\n",
       "</div>"
      ],
      "text/plain": [
       "        target  feature_0  feature_1  feature_2  feature_3  feature_4  \\\n",
       "0            1  -0.005132   -0.00462  -0.056670  -0.041402   -0.04498   \n",
       "1            0  -0.005132   -0.00462  -0.056670  -0.041402   -0.04498   \n",
       "2            0  -0.005132   -0.00462  -0.056670  -0.041402   -0.04498   \n",
       "3            0  -0.005132   -0.00462  -0.056670  -0.041402   -0.04498   \n",
       "4            1  -0.005132   -0.00462  -0.056670  -0.041402   -0.04498   \n",
       "...        ...        ...        ...        ...        ...        ...   \n",
       "186958       0  -0.005132   -0.00462  -0.056670  -0.041402   -0.04498   \n",
       "186959       0  -0.005132   -0.00462  -0.056670  -0.041402   -0.04498   \n",
       "186960       0  -0.005132   -0.00462  -0.056670  -0.041402   -0.04498   \n",
       "186961       1  -0.005132   -0.00462  -0.056670  -0.041402   -0.04498   \n",
       "186962       0  -0.005132   -0.00462   0.293236  -0.041402   -0.04498   \n",
       "\n",
       "        feature_5  feature_6  feature_7  feature_8  ...  feature_2729  \\\n",
       "0        -0.02581  -0.020921  -0.023426   -0.07001  ...           0.0   \n",
       "1        -0.02581  -0.020921  -0.023426   -0.07001  ...           0.0   \n",
       "2        -0.02581  -0.020921  -0.023426   -0.07001  ...           0.0   \n",
       "3        -0.02581  -0.020921  -0.023426   -0.07001  ...           0.0   \n",
       "4        -0.02581  -0.020921  -0.023426   -0.07001  ...           0.0   \n",
       "...           ...        ...        ...        ...  ...           ...   \n",
       "186958   -0.02581  -0.020921  -0.023426   -0.07001  ...           0.0   \n",
       "186959   -0.02581  -0.020921  -0.023426   -0.07001  ...           0.0   \n",
       "186960   -0.02581  -0.020921  -0.023426   -0.07001  ...           0.0   \n",
       "186961   -0.02581  -0.020921  -0.023426   -0.07001  ...           0.0   \n",
       "186962   -0.02581  -0.020921  -0.023426   -0.07001  ...           0.0   \n",
       "\n",
       "        feature_2730  feature_2731  feature_2732  feature_2733  feature_2734  \\\n",
       "0                0.0          1.00      1.000000      1.000000      1.000000   \n",
       "1                0.0          1.00      0.538462      0.714286      0.932223   \n",
       "2                0.0          0.75      0.384615      0.400000      0.912123   \n",
       "3                0.0          1.00      0.307692      0.500000      0.937697   \n",
       "4                0.0          1.00      0.960000      1.000000      1.000000   \n",
       "...              ...           ...           ...           ...           ...   \n",
       "186958           0.0          1.00      1.000000      0.857143      1.000000   \n",
       "186959           0.0          1.00      0.935484      0.896552      0.937372   \n",
       "186960           0.0          1.00      0.636364      0.571429      0.733658   \n",
       "186961           0.0          1.00      0.538462      0.571429      0.999983   \n",
       "186962           0.0          1.00      0.833333      0.500000      0.825800   \n",
       "\n",
       "        feature_2735  feature_2736  feature_2737  feature_2738  \n",
       "0           1.000000      0.996979      1.000000      1.000000  \n",
       "1           0.984855      0.650333      0.813846      0.827548  \n",
       "2           0.912123      0.714803      0.522542      0.677062  \n",
       "3           0.299730      0.363050      0.926552      0.532055  \n",
       "4           1.000000      1.000000      1.000000      0.866629  \n",
       "...              ...           ...           ...           ...  \n",
       "186958      1.000000      0.973684      1.000000      0.985662  \n",
       "186959      1.000000      1.000000      1.000000      0.968997  \n",
       "186960      0.733658      0.657189      0.625237      0.646001  \n",
       "186961      0.999980      1.000000      0.816328      0.675350  \n",
       "186962      0.825800      0.875309      0.506383      0.913063  \n",
       "\n",
       "[186963 rows x 2740 columns]"
      ]
     },
     "execution_count": 6,
     "metadata": {},
     "output_type": "execute_result"
    }
   ],
   "source": [
    "import pandas as pd\n",
    "\n",
    "pd.read_parquet(\"../data/train_preprocessed/batch_0.parquet\")"
   ]
  },
  {
   "cell_type": "code",
   "execution_count": 4,
   "metadata": {},
   "outputs": [
    {
     "name": "stdout",
     "output_type": "stream",
     "text": [
      "Collecting pyarrow\n",
      "  Downloading pyarrow-17.0.0-cp38-cp38-manylinux_2_17_x86_64.manylinux2014_x86_64.whl (40.0 MB)\n",
      "\u001b[K     |████████████████████████████████| 40.0 MB 20.8 MB/s eta 0:00:01\n",
      "\u001b[?25hRequirement already satisfied: numpy>=1.16.6 in /opt/conda/lib/python3.8/site-packages (from pyarrow) (1.24.4)\n",
      "Installing collected packages: pyarrow\n",
      "Successfully installed pyarrow-17.0.0\n"
     ]
    }
   ],
   "source": [
    "!pip install pyarrow"
   ]
  }
 ],
 "metadata": {
  "kernelspec": {
   "display_name": "Python 3",
   "language": "python",
   "name": "python3"
  },
  "language_info": {
   "codemirror_mode": {
    "name": "ipython",
    "version": 3
   },
   "file_extension": ".py",
   "mimetype": "text/x-python",
   "name": "python",
   "nbconvert_exporter": "python",
   "pygments_lexer": "ipython3",
   "version": "3.8.8"
  }
 },
 "nbformat": 4,
 "nbformat_minor": 2
}
